{
 "cells": [
  {
   "cell_type": "markdown",
   "metadata": {},
   "source": [
    "<p style=\"text-align:center\">\n",
    "    <a href=\"https://skills.network\" target=\"_blank\">\n",
    "    <img src=\"https://cf-courses-data.s3.us.cloud-object-storage.appdomain.cloud/assets/logos/SN_web_lightmode.png\" width=\"200\" alt=\"Skills Network Logo\">\n",
    "    </a>\n",
    "</p>\n"
   ]
  },
  {
   "cell_type": "markdown",
   "metadata": {},
   "source": [
    "# **Space X  Falcon 9 First Stage Landing Prediction**\n"
   ]
  },
  {
   "cell_type": "markdown",
   "metadata": {},
   "source": [
    "## Web scraping Falcon 9 and Falcon Heavy Launches Records from Wikipedia\n"
   ]
  },
  {
   "cell_type": "markdown",
   "metadata": {},
   "source": [
    "Estimated time needed: **40** minutes\n"
   ]
  },
  {
   "cell_type": "markdown",
   "metadata": {},
   "source": [
    "In this lab, you will be performing web scraping to collect Falcon 9 historical launch records from a Wikipedia page titled `List of Falcon 9 and Falcon Heavy launches`\n",
    "\n",
    "https://en.wikipedia.org/wiki/List_of_Falcon_9_and_Falcon_Heavy_launches\n"
   ]
  },
  {
   "cell_type": "markdown",
   "metadata": {},
   "source": [
    "![](https://cf-courses-data.s3.us.cloud-object-storage.appdomain.cloud/IBM-DS0321EN-SkillsNetwork/labs/module_1_L2/images/Falcon9_rocket_family.svg)\n"
   ]
  },
  {
   "cell_type": "markdown",
   "metadata": {},
   "source": [
    "Falcon 9 first stage will land successfully\n"
   ]
  },
  {
   "cell_type": "markdown",
   "metadata": {},
   "source": [
    "![](https://cf-courses-data.s3.us.cloud-object-storage.appdomain.cloud/IBMDeveloperSkillsNetwork-DS0701EN-SkillsNetwork/api/Images/landing_1.gif)\n"
   ]
  },
  {
   "cell_type": "markdown",
   "metadata": {},
   "source": [
    "Several examples of an unsuccessful landing are shown here:\n"
   ]
  },
  {
   "cell_type": "markdown",
   "metadata": {},
   "source": [
    "![](https://cf-courses-data.s3.us.cloud-object-storage.appdomain.cloud/IBMDeveloperSkillsNetwork-DS0701EN-SkillsNetwork/api/Images/crash.gif)\n"
   ]
  },
  {
   "cell_type": "markdown",
   "metadata": {},
   "source": [
    "More specifically, the launch records are stored in a HTML table shown below:\n"
   ]
  },
  {
   "cell_type": "markdown",
   "metadata": {},
   "source": [
    "![](https://cf-courses-data.s3.us.cloud-object-storage.appdomain.cloud/IBM-DS0321EN-SkillsNetwork/labs/module_1_L2/images/falcon9-launches-wiki.png)\n"
   ]
  },
  {
   "cell_type": "markdown",
   "metadata": {},
   "source": [
    "  ## Objectives\n",
    "Web scrap Falcon 9 launch records with `BeautifulSoup`: \n",
    "- Extract a Falcon 9 launch records HTML table from Wikipedia\n",
    "- Parse the table and convert it into a Pandas data frame\n"
   ]
  },
  {
   "cell_type": "markdown",
   "metadata": {},
   "source": [
    "First let's import required packages for this lab\n"
   ]
  },
  {
   "cell_type": "code",
   "execution_count": 15,
   "metadata": {
    "tags": []
   },
   "outputs": [
    {
     "name": "stdout",
     "output_type": "stream",
     "text": [
      "Requirement already satisfied: beautifulsoup4 in /home/jupyterlab/conda/envs/python/lib/python3.7/site-packages (4.11.1)\n",
      "Requirement already satisfied: soupsieve>1.2 in /home/jupyterlab/conda/envs/python/lib/python3.7/site-packages (from beautifulsoup4) (2.3.2.post1)\n",
      "Requirement already satisfied: requests in /home/jupyterlab/conda/envs/python/lib/python3.7/site-packages (2.29.0)\n",
      "Requirement already satisfied: charset-normalizer<4,>=2 in /home/jupyterlab/conda/envs/python/lib/python3.7/site-packages (from requests) (3.1.0)\n",
      "Requirement already satisfied: idna<4,>=2.5 in /home/jupyterlab/conda/envs/python/lib/python3.7/site-packages (from requests) (3.4)\n",
      "Requirement already satisfied: urllib3<1.27,>=1.21.1 in /home/jupyterlab/conda/envs/python/lib/python3.7/site-packages (from requests) (1.26.15)\n",
      "Requirement already satisfied: certifi>=2017.4.17 in /home/jupyterlab/conda/envs/python/lib/python3.7/site-packages (from requests) (2023.5.7)\n"
     ]
    }
   ],
   "source": [
    "!pip3 install beautifulsoup4\n",
    "!pip3 install requests"
   ]
  },
  {
   "cell_type": "code",
   "execution_count": 16,
   "metadata": {
    "tags": []
   },
   "outputs": [],
   "source": [
    "import sys\n",
    "\n",
    "import requests\n",
    "from bs4 import BeautifulSoup\n",
    "import re\n",
    "import unicodedata\n",
    "import pandas as pd"
   ]
  },
  {
   "cell_type": "markdown",
   "metadata": {},
   "source": [
    "and we will provide some helper functions for you to process web scraped HTML table\n"
   ]
  },
  {
   "cell_type": "code",
   "execution_count": 17,
   "metadata": {
    "tags": []
   },
   "outputs": [],
   "source": [
    "def date_time(table_cells):\n",
    "    \"\"\"\n",
    "    This function returns the data and time from the HTML  table cell\n",
    "    Input: the  element of a table data cell extracts extra row\n",
    "    \"\"\"\n",
    "    return [data_time.strip() for data_time in list(table_cells.strings)][0:2]\n",
    "\n",
    "def booster_version(table_cells):\n",
    "    \"\"\"\n",
    "    This function returns the booster version from the HTML  table cell \n",
    "    Input: the  element of a table data cell extracts extra row\n",
    "    \"\"\"\n",
    "    out=''.join([booster_version for i,booster_version in enumerate( table_cells.strings) if i%2==0][0:-1])\n",
    "    return out\n",
    "\n",
    "def landing_status(table_cells):\n",
    "    \"\"\"\n",
    "    This function returns the landing status from the HTML table cell \n",
    "    Input: the  element of a table data cell extracts extra row\n",
    "    \"\"\"\n",
    "    out=[i for i in table_cells.strings][0]\n",
    "    return out\n",
    "\n",
    "\n",
    "def get_mass(table_cells):\n",
    "    mass=unicodedata.normalize(\"NFKD\", table_cells.text).strip()\n",
    "    if mass:\n",
    "        mass.find(\"kg\")\n",
    "        new_mass=mass[0:mass.find(\"kg\")+2]\n",
    "    else:\n",
    "        new_mass=0\n",
    "    return new_mass\n",
    "\n",
    "\n",
    "def extract_column_from_header(row):\n",
    "    \"\"\"\n",
    "    This function returns the landing status from the HTML table cell \n",
    "    Input: the  element of a table data cell extracts extra row\n",
    "    \"\"\"\n",
    "    if (row.br):\n",
    "        row.br.extract()\n",
    "    if row.a:\n",
    "        row.a.extract()\n",
    "    if row.sup:\n",
    "        row.sup.extract()\n",
    "        \n",
    "    colunm_name = ' '.join(row.contents)\n",
    "    \n",
    "    # Filter the digit and empty names\n",
    "    if not(colunm_name.strip().isdigit()):\n",
    "        colunm_name = colunm_name.strip()\n",
    "        return colunm_name"
   ]
  },
  {
   "cell_type": "markdown",
   "metadata": {},
   "source": [
    "To keep the lab tasks consistent, you will be asked to scrape the data from a snapshot of the  `List of Falcon 9 and Falcon Heavy launches` Wikipage updated on\n",
    "`9th June 2021`\n"
   ]
  },
  {
   "cell_type": "code",
   "execution_count": 18,
   "metadata": {
    "tags": []
   },
   "outputs": [],
   "source": [
    "static_url = \"https://en.wikipedia.org/w/index.php?title=List_of_Falcon_9_and_Falcon_Heavy_launches&oldid=1027686922\""
   ]
  },
  {
   "cell_type": "markdown",
   "metadata": {},
   "source": [
    "Next, request the HTML page from the above URL and get a `response` object\n"
   ]
  },
  {
   "cell_type": "markdown",
   "metadata": {},
   "source": [
    "### TASK 1: Request the Falcon9 Launch Wiki page from its URL\n"
   ]
  },
  {
   "cell_type": "markdown",
   "metadata": {},
   "source": [
    "First, let's perform an HTTP GET method to request the Falcon9 Launch HTML page, as an HTTP response.\n"
   ]
  },
  {
   "cell_type": "code",
   "execution_count": 19,
   "metadata": {
    "tags": []
   },
   "outputs": [],
   "source": [
    "# use requests.get() method with the provided static_url\n",
    "# assign the response to a object\n",
    "response = requests.get(static_url)"
   ]
  },
  {
   "cell_type": "markdown",
   "metadata": {},
   "source": [
    "Create a `BeautifulSoup` object from the HTML `response`\n"
   ]
  },
  {
   "cell_type": "code",
   "execution_count": 20,
   "metadata": {
    "tags": []
   },
   "outputs": [],
   "source": [
    "# Use BeautifulSoup() to create a BeautifulSoup object from a response text content\n",
    "soup = BeautifulSoup(response.text,'html.parser')"
   ]
  },
  {
   "cell_type": "markdown",
   "metadata": {},
   "source": [
    "Print the page title to verify if the `BeautifulSoup` object was created properly \n"
   ]
  },
  {
   "cell_type": "code",
   "execution_count": 21,
   "metadata": {
    "tags": []
   },
   "outputs": [
    {
     "name": "stdout",
     "output_type": "stream",
     "text": [
      "List of Falcon 9 and Falcon Heavy launches - Wikipedia\n"
     ]
    }
   ],
   "source": [
    "# Use soup.title attribute\n",
    "print(soup.title.text)"
   ]
  },
  {
   "cell_type": "markdown",
   "metadata": {},
   "source": [
    "### TASK 2: Extract all column/variable names from the HTML table header\n"
   ]
  },
  {
   "cell_type": "markdown",
   "metadata": {},
   "source": [
    "Next, we want to collect all relevant column names from the HTML table header\n"
   ]
  },
  {
   "cell_type": "markdown",
   "metadata": {},
   "source": [
    "Let's try to find all tables on the wiki page first. If you need to refresh your memory about `BeautifulSoup`, please check the external reference link towards the end of this lab\n"
   ]
  },
  {
   "cell_type": "code",
   "execution_count": 22,
   "metadata": {
    "tags": []
   },
   "outputs": [],
   "source": [
    "# Use the find_all function in the BeautifulSoup object, with element type `table`\n",
    "# Assign the result to a list called `html_tables`\n",
    "html_tables = soup.find_all('table')"
   ]
  },
  {
   "cell_type": "markdown",
   "metadata": {},
   "source": [
    "Starting from the third table is our target table contains the actual launch records.\n"
   ]
  },
  {
   "cell_type": "code",
   "execution_count": 23,
   "metadata": {
    "tags": []
   },
   "outputs": [
    {
     "name": "stdout",
     "output_type": "stream",
     "text": [
      "<table class=\"wikitable plainrowheaders collapsible\" style=\"width: 100%;\">\n",
      "<tbody><tr>\n",
      "<th scope=\"col\">Flight No.\n",
      "</th>\n",
      "<th scope=\"col\">Date and<br/>time (<a href=\"/wiki/Coordinated_Universal_Time\" title=\"Coordinated Universal Time\">UTC</a>)\n",
      "</th>\n",
      "<th scope=\"col\"><a href=\"/wiki/List_of_Falcon_9_first-stage_boosters\" title=\"List of Falcon 9 first-stage boosters\">Version,<br/>Booster</a><sup class=\"reference\" id=\"cite_ref-booster_11-7\"><a href=\"#cite_note-booster-11\"><span class=\"cite-bracket\">[</span>b<span class=\"cite-bracket\">]</span></a></sup>\n",
      "</th>\n",
      "<th scope=\"col\">Launch<br/>site\n",
      "</th>\n",
      "<th scope=\"col\">Payload<sup class=\"reference\" id=\"cite_ref-Dragon_12-7\"><a href=\"#cite_note-Dragon-12\"><span class=\"cite-bracket\">[</span>c<span class=\"cite-bracket\">]</span></a></sup>\n",
      "</th>\n",
      "<th scope=\"col\">Payload mass\n",
      "</th>\n",
      "<th scope=\"col\">Orbit\n",
      "</th>\n",
      "<th scope=\"col\">Customer\n",
      "</th>\n",
      "<th scope=\"col\">Launch<br/>outcome\n",
      "</th>\n",
      "<th scope=\"col\"><a href=\"/wiki/Falcon_9_first-stage_landing_tests\" title=\"Falcon 9 first-stage landing tests\">Booster<br/>landing</a>\n",
      "</th></tr>\n",
      "<tr>\n",
      "<th rowspan=\"2\" scope=\"row\" style=\"text-align:center;\">78\n",
      "</th>\n",
      "<td>7 January 2020,<br/>02:19:21<sup class=\"reference\" id=\"cite_ref-504\"><a href=\"#cite_note-504\"><span class=\"cite-bracket\">[</span>492<span class=\"cite-bracket\">]</span></a></sup>\n",
      "</td>\n",
      "<td><a href=\"/wiki/Falcon_9_Block_5\" title=\"Falcon 9 Block 5\">F9 B5</a> ♺ <br/><a href=\"/wiki/List_of_Falcon_9_first-stage_boosters#B1049\" title=\"List of Falcon 9 first-stage boosters\">B1049.4</a>\n",
      "</td>\n",
      "<td><a class=\"mw-redirect\" href=\"/wiki/Cape_Canaveral_Air_Force_Station\" title=\"Cape Canaveral Air Force Station\">CCAFS</a>,<br/><a href=\"/wiki/Cape_Canaveral_Space_Launch_Complex_40\" title=\"Cape Canaveral Space Launch Complex 40\">SLC-40</a>\n",
      "</td>\n",
      "<td><a href=\"/wiki/Starlink\" title=\"Starlink\">Starlink</a> 2 v1.0 (60 satellites)\n",
      "</td>\n",
      "<td>15,600 kg (34,400 lb)<sup class=\"reference\" id=\"cite_ref-SLNov19_5-5\"><a href=\"#cite_note-SLNov19-5\"><span class=\"cite-bracket\">[</span>5<span class=\"cite-bracket\">]</span></a></sup>\n",
      "</td>\n",
      "<td><a href=\"/wiki/Low_Earth_orbit\" title=\"Low Earth orbit\">LEO</a>\n",
      "</td>\n",
      "<td><a href=\"/wiki/SpaceX\" title=\"SpaceX\">SpaceX</a>\n",
      "</td>\n",
      "<td class=\"table-success\" style=\"background: #9EFF9E; color:black; vertical-align: middle; text-align: center;\">Success\n",
      "</td>\n",
      "<td class=\"table-success\" style=\"background: #9EFF9E; color:black; vertical-align: middle; text-align: center;\">Success<br/><small><span class=\"nowrap\">(drone ship)</span></small>\n",
      "</td></tr>\n",
      "<tr>\n",
      "<td colspan=\"9\">Third large batch and second operational flight of Starlink constellation. One of the 60 satellites included a test coating to make the satellite less reflective, and thus less likely to interfere with ground-based astronomical observations.<sup class=\"reference\" id=\"cite_ref-505\"><a href=\"#cite_note-505\"><span class=\"cite-bracket\">[</span>493<span class=\"cite-bracket\">]</span></a></sup>\n",
      "</td></tr>\n",
      "<tr>\n",
      "<th rowspan=\"2\" scope=\"row\" style=\"text-align:center;\">79\n",
      "</th>\n",
      "<td>19 January 2020,<br/>15:30<sup class=\"reference\" id=\"cite_ref-506\"><a href=\"#cite_note-506\"><span class=\"cite-bracket\">[</span>494<span class=\"cite-bracket\">]</span></a></sup>\n",
      "</td>\n",
      "<td><a href=\"/wiki/Falcon_9_Block_5\" title=\"Falcon 9 Block 5\">F9 B5</a> ♺ <br/><a class=\"mw-redirect\" href=\"/wiki/B1046\" title=\"B1046\">B1046.4</a>\n",
      "</td>\n",
      "<td><a href=\"/wiki/Kennedy_Space_Center\" title=\"Kennedy Space Center\">KSC</a>,<br/><a href=\"/wiki/Kennedy_Space_Center_Launch_Complex_39A\" title=\"Kennedy Space Center Launch Complex 39A\">LC-39A</a>\n",
      "</td>\n",
      "<td><a href=\"/wiki/SpaceX_Dragon_2#In-flight_abort_test\" title=\"SpaceX Dragon 2\">Crew Dragon in-flight abort test</a><sup class=\"reference\" id=\"cite_ref-sn20150702_507-0\"><a href=\"#cite_note-sn20150702-507\"><span class=\"cite-bracket\">[</span>495<span class=\"cite-bracket\">]</span></a></sup><br/>(Dragon C205.1)\n",
      "</td>\n",
      "<td>12,050 kg (26,570 lb)\n",
      "</td>\n",
      "<td><a class=\"mw-redirect\" href=\"/wiki/Sub-orbital\" title=\"Sub-orbital\">Sub-orbital</a><sup class=\"reference\" id=\"cite_ref-508\"><a href=\"#cite_note-508\"><span class=\"cite-bracket\">[</span>496<span class=\"cite-bracket\">]</span></a></sup>\n",
      "</td>\n",
      "<td><a href=\"/wiki/NASA\" title=\"NASA\">NASA</a> (<a class=\"mw-redirect\" href=\"/wiki/ISS_Crew_Transportation_Services\" title=\"ISS Crew Transportation Services\">CTS</a>)<sup class=\"reference\" id=\"cite_ref-CCD6_509-0\"><a href=\"#cite_note-CCD6-509\"><span class=\"cite-bracket\">[</span>497<span class=\"cite-bracket\">]</span></a></sup>\n",
      "</td>\n",
      "<td class=\"table-success\" style=\"background: #9EFF9E; color:black; vertical-align: middle; text-align: center;\">Success\n",
      "</td>\n",
      "<td class=\"table-noAttempt\" style=\"background: #EEE; color:black; vertical-align: middle; white-space: nowrap; text-align: center;\">No attempt\n",
      "</td></tr>\n",
      "<tr>\n",
      "<td colspan=\"9\">An atmospheric test of the <a href=\"/wiki/SpaceX_Dragon_2\" title=\"SpaceX Dragon 2\">Dragon 2</a> abort system after <a class=\"mw-redirect\" href=\"/wiki/Max_Q\" title=\"Max Q\">Max Q</a>. The capsule fired its <a href=\"/wiki/SuperDraco\" title=\"SuperDraco\">SuperDraco</a> engines, reached an apogee of 40 km (25 mi), deployed parachutes after reentry, and <a href=\"/wiki/Splashdown\" title=\"Splashdown\">splashed down</a> in the ocean 31 km (19 mi) downrange from the launch site. The test was previously slated to be accomplished with the <a href=\"/wiki/Crew_Dragon_Demo-1\" title=\"Crew Dragon Demo-1\">Crew Dragon Demo-1</a> capsule;<sup class=\"reference\" id=\"cite_ref-nsf-20170811_510-0\"><a href=\"#cite_note-nsf-20170811-510\"><span class=\"cite-bracket\">[</span>498<span class=\"cite-bracket\">]</span></a></sup> but that test article exploded during a ground test of SuperDraco engines on 20 April 2019.<sup class=\"reference\" id=\"cite_ref-:11_430-1\"><a href=\"#cite_note-:11-430\"><span class=\"cite-bracket\">[</span>419<span class=\"cite-bracket\">]</span></a></sup> The abort test used the capsule originally intended for the first crewed flight.<sup class=\"reference\" id=\"cite_ref-sfn_crewdragon_may19_511-0\"><a href=\"#cite_note-sfn_crewdragon_may19-511\"><span class=\"cite-bracket\">[</span>499<span class=\"cite-bracket\">]</span></a></sup> As expected, the booster was destroyed by aerodynamic forces after the capsule aborted.<sup class=\"reference\" id=\"cite_ref-512\"><a href=\"#cite_note-512\"><span class=\"cite-bracket\">[</span>500<span class=\"cite-bracket\">]</span></a></sup> First flight of a Falcon 9 with only one functional stage — the second stage had a <a class=\"mw-redirect\" href=\"/wiki/Mass_simulator\" title=\"Mass simulator\">mass simulator</a> in place of its engine.\n",
      "</td></tr>\n",
      "<tr>\n",
      "<th rowspan=\"2\" scope=\"row\" style=\"text-align:center;\">80\n",
      "</th>\n",
      "<td>29 January 2020,<br/>14:07<sup class=\"reference\" id=\"cite_ref-513\"><a href=\"#cite_note-513\"><span class=\"cite-bracket\">[</span>501<span class=\"cite-bracket\">]</span></a></sup>\n",
      "</td>\n",
      "<td><a href=\"/wiki/Falcon_9_Block_5\" title=\"Falcon 9 Block 5\">F9 B5</a> ♺<br/><a class=\"mw-redirect\" href=\"/wiki/Falcon_9_booster_B1051\" title=\"Falcon 9 booster B1051\">B1051.3</a>\n",
      "</td>\n",
      "<td><a class=\"mw-redirect\" href=\"/wiki/Cape_Canaveral_Air_Force_Station\" title=\"Cape Canaveral Air Force Station\">CCAFS</a>,<br/><a href=\"/wiki/Cape_Canaveral_Space_Launch_Complex_40\" title=\"Cape Canaveral Space Launch Complex 40\">SLC-40</a>\n",
      "</td>\n",
      "<td><a href=\"/wiki/Starlink\" title=\"Starlink\">Starlink</a> 3 v1.0 (60 satellites)\n",
      "</td>\n",
      "<td>15,600 kg (34,400 lb)<sup class=\"reference\" id=\"cite_ref-SLNov19_5-6\"><a href=\"#cite_note-SLNov19-5\"><span class=\"cite-bracket\">[</span>5<span class=\"cite-bracket\">]</span></a></sup>\n",
      "</td>\n",
      "<td><a href=\"/wiki/Low_Earth_orbit\" title=\"Low Earth orbit\">LEO</a>\n",
      "</td>\n",
      "<td><a href=\"/wiki/SpaceX\" title=\"SpaceX\">SpaceX</a>\n",
      "</td>\n",
      "<td class=\"table-success\" style=\"background: #9EFF9E; color:black; vertical-align: middle; text-align: center;\">Success\n",
      "</td>\n",
      "<td class=\"table-success\" style=\"background: #9EFF9E; color:black; vertical-align: middle; text-align: center;\">Success<br/><small><span class=\"nowrap\">(drone ship)</span></small>\n",
      "</td></tr>\n",
      "<tr>\n",
      "<td colspan=\"9\">Third operational and fourth large batch of Starlink satellites, deployed in a circular 290 km (180 mi) orbit. One of the fairing halves was caught, while the other was fished out of the ocean.<sup class=\"reference\" id=\"cite_ref-catch3_514-0\"><a href=\"#cite_note-catch3-514\"><span class=\"cite-bracket\">[</span>502<span class=\"cite-bracket\">]</span></a></sup>\n",
      "</td></tr>\n",
      "<tr>\n",
      "<th rowspan=\"2\" scope=\"row\" style=\"text-align:center;\">81\n",
      "</th>\n",
      "<td>17 February 2020,<br/>15:05<sup class=\"reference\" id=\"cite_ref-515\"><a href=\"#cite_note-515\"><span class=\"cite-bracket\">[</span>503<span class=\"cite-bracket\">]</span></a></sup>\n",
      "</td>\n",
      "<td><a href=\"/wiki/Falcon_9_Block_5\" title=\"Falcon 9 Block 5\">F9 B5</a> ♺<br/><a class=\"mw-redirect\" href=\"/wiki/Falcon_9_booster_B1056\" title=\"Falcon 9 booster B1056\">B1056.4</a>\n",
      "</td>\n",
      "<td><a class=\"mw-redirect\" href=\"/wiki/Cape_Canaveral_Air_Force_Station\" title=\"Cape Canaveral Air Force Station\">CCAFS</a>,<br/><a href=\"/wiki/Cape_Canaveral_Space_Launch_Complex_40\" title=\"Cape Canaveral Space Launch Complex 40\">SLC-40</a>\n",
      "</td>\n",
      "<td><a href=\"/wiki/Starlink\" title=\"Starlink\">Starlink</a> 4 v1.0 (60 satellites)\n",
      "</td>\n",
      "<td>15,600 kg (34,400 lb)<sup class=\"reference\" id=\"cite_ref-SLNov19_5-7\"><a href=\"#cite_note-SLNov19-5\"><span class=\"cite-bracket\">[</span>5<span class=\"cite-bracket\">]</span></a></sup>\n",
      "</td>\n",
      "<td><a href=\"/wiki/Low_Earth_orbit\" title=\"Low Earth orbit\">LEO</a>\n",
      "</td>\n",
      "<td><a href=\"/wiki/SpaceX\" title=\"SpaceX\">SpaceX</a>\n",
      "</td>\n",
      "<td class=\"table-success\" style=\"background: #9EFF9E; color:black; vertical-align: middle; text-align: center;\">Success\n",
      "</td>\n",
      "<td class=\"table-failure\" style=\"background: #FFC7C7; color:black; vertical-align: middle; text-align: center;\">Failure<br/><small>(drone ship)</small>\n",
      "</td></tr>\n",
      "<tr>\n",
      "<td colspan=\"9\">Fourth operational and fifth large batch of Starlink satellites. Used a new flight profile which deployed into a 212 km × 386 km (132 mi × 240 mi) elliptical orbit instead of launching into a circular orbit and firing the second stage engine twice. The first stage booster failed to land on the drone ship<sup class=\"reference\" id=\"cite_ref-516\"><a href=\"#cite_note-516\"><span class=\"cite-bracket\">[</span>504<span class=\"cite-bracket\">]</span></a></sup> due to incorrect wind data.<sup class=\"reference\" id=\"cite_ref-517\"><a href=\"#cite_note-517\"><span class=\"cite-bracket\">[</span>505<span class=\"cite-bracket\">]</span></a></sup> This was the first time a flight proven booster failed to land.\n",
      "</td></tr>\n",
      "<tr>\n",
      "<th rowspan=\"2\" scope=\"row\" style=\"text-align:center;\">82\n",
      "</th>\n",
      "<td>7 March 2020,<br/>04:50<sup class=\"reference\" id=\"cite_ref-518\"><a href=\"#cite_note-518\"><span class=\"cite-bracket\">[</span>506<span class=\"cite-bracket\">]</span></a></sup>\n",
      "</td>\n",
      "<td><a href=\"/wiki/Falcon_9_Block_5\" title=\"Falcon 9 Block 5\">F9 B5</a> ♺<br/><a href=\"/wiki/List_of_Falcon_9_first-stage_boosters#B1059\" title=\"List of Falcon 9 first-stage boosters\">B1059.2</a>\n",
      "</td>\n",
      "<td><a class=\"mw-redirect\" href=\"/wiki/Cape_Canaveral_Air_Force_Station\" title=\"Cape Canaveral Air Force Station\">CCAFS</a>,<br/><a href=\"/wiki/Cape_Canaveral_Space_Launch_Complex_40\" title=\"Cape Canaveral Space Launch Complex 40\">SLC-40</a>\n",
      "</td>\n",
      "<td><a href=\"/wiki/SpaceX_CRS-20\" title=\"SpaceX CRS-20\">SpaceX CRS-20</a><br/>(Dragon C112.3 ♺)\n",
      "</td>\n",
      "<td>1,977 kg (4,359 lb)<sup class=\"reference\" id=\"cite_ref-519\"><a href=\"#cite_note-519\"><span class=\"cite-bracket\">[</span>507<span class=\"cite-bracket\">]</span></a></sup>\n",
      "</td>\n",
      "<td><a href=\"/wiki/Low_Earth_orbit\" title=\"Low Earth orbit\">LEO</a> (<a class=\"mw-redirect\" href=\"/wiki/ISS\" title=\"ISS\">ISS</a>)\n",
      "</td>\n",
      "<td><a href=\"/wiki/NASA\" title=\"NASA\">NASA</a> (<a href=\"/wiki/Commercial_Resupply_Services\" title=\"Commercial Resupply Services\">CRS</a>)\n",
      "</td>\n",
      "<td class=\"table-success\" style=\"background: #9EFF9E; color:black; vertical-align: middle; text-align: center;\">Success\n",
      "</td>\n",
      "<td class=\"table-success\" style=\"background: #9EFF9E; color:black; vertical-align: middle; text-align: center;\">Success<br/><small><span class=\"nowrap\">(ground pad)</span></small>\n",
      "</td></tr>\n",
      "<tr>\n",
      "<td colspan=\"9\">Last launch of phase 1 of the CRS contract. Carries <i>Bartolomeo</i>, an <a class=\"mw-redirect\" href=\"/wiki/ESA\" title=\"ESA\">ESA</a> platform for hosting external payloads onto ISS.<sup class=\"reference\" id=\"cite_ref-520\"><a href=\"#cite_note-520\"><span class=\"cite-bracket\">[</span>508<span class=\"cite-bracket\">]</span></a></sup> Originally scheduled to launch on 2 March 2020, the launch date was pushed back due to a second stage engine failure. SpaceX decided to swap out the second stage instead of replacing the faulty part.<sup class=\"reference\" id=\"cite_ref-521\"><a href=\"#cite_note-521\"><span class=\"cite-bracket\">[</span>509<span class=\"cite-bracket\">]</span></a></sup> It was SpaceX's 50th successful landing of a first stage booster, the third flight of the Dragon C112 and the last launch of the cargo <a class=\"mw-redirect\" href=\"/wiki/Dragon_(spacecraft)\" title=\"Dragon (spacecraft)\">Dragon</a> spacecraft.\n",
      "</td></tr>\n",
      "<tr>\n",
      "<th rowspan=\"2\" scope=\"row\" style=\"text-align:center;\">83\n",
      "</th>\n",
      "<td>18 March 2020,<br/>12:16<sup class=\"reference\" id=\"cite_ref-522\"><a href=\"#cite_note-522\"><span class=\"cite-bracket\">[</span>510<span class=\"cite-bracket\">]</span></a></sup>\n",
      "</td>\n",
      "<td><a href=\"/wiki/Falcon_9_Block_5\" title=\"Falcon 9 Block 5\">F9 B5</a> ♺ <br/><a class=\"mw-redirect\" href=\"/wiki/Falcon_9_booster_B1048\" title=\"Falcon 9 booster B1048\">B1048.5</a>\n",
      "</td>\n",
      "<td><a href=\"/wiki/Kennedy_Space_Center\" title=\"Kennedy Space Center\">KSC</a>,<br/><a href=\"/wiki/Kennedy_Space_Center_Launch_Complex_39A\" title=\"Kennedy Space Center Launch Complex 39A\">LC-39A</a>\n",
      "</td>\n",
      "<td><a href=\"/wiki/Starlink\" title=\"Starlink\">Starlink</a> 5 v1.0 (60 satellites)\n",
      "</td>\n",
      "<td>15,600 kg (34,400 lb)<sup class=\"reference\" id=\"cite_ref-SLNov19_5-8\"><a href=\"#cite_note-SLNov19-5\"><span class=\"cite-bracket\">[</span>5<span class=\"cite-bracket\">]</span></a></sup>\n",
      "</td>\n",
      "<td><a href=\"/wiki/Low_Earth_orbit\" title=\"Low Earth orbit\">LEO</a>\n",
      "</td>\n",
      "<td><a href=\"/wiki/SpaceX\" title=\"SpaceX\">SpaceX</a>\n",
      "</td>\n",
      "<td class=\"table-success\" style=\"background: #9EFF9E; color:black; vertical-align: middle; text-align: center;\">Success\n",
      "</td>\n",
      "<td class=\"table-failure\" style=\"background: #FFC7C7; color:black; vertical-align: middle; text-align: center;\">Failure<br/><small><span class=\"nowrap\">(drone ship)</span></small>\n",
      "</td></tr>\n",
      "<tr>\n",
      "<td colspan=\"9\">Fifth operational launch of Starlink satellites. It was the first time a first stage booster flew for a fifth time and the second time the fairings were reused (Starlink flight in May 2019).<sup class=\"reference\" id=\"cite_ref-523\"><a href=\"#cite_note-523\"><span class=\"cite-bracket\">[</span>511<span class=\"cite-bracket\">]</span></a></sup> Towards the end of the first stage burn, the booster suffered premature shut down of an engine, the first of a <a class=\"mw-redirect\" href=\"/wiki/Merlin_1D\" title=\"Merlin 1D\">Merlin 1D</a> variant and first since the CRS-1 mission in October 2012. However, the payload still reached the targeted orbit.<sup class=\"reference\" id=\"cite_ref-524\"><a href=\"#cite_note-524\"><span class=\"cite-bracket\">[</span>512<span class=\"cite-bracket\">]</span></a></sup> This was the second Starlink launch booster landing failure in a row, later revealed to be caused by residual cleaning fluid trapped inside a sensor.<sup class=\"reference\" id=\"cite_ref-525\"><a href=\"#cite_note-525\"><span class=\"cite-bracket\">[</span>513<span class=\"cite-bracket\">]</span></a></sup>\n",
      "</td></tr>\n",
      "<tr>\n",
      "<th rowspan=\"2\" scope=\"row\" style=\"text-align:center;\">84\n",
      "</th>\n",
      "<td>22 April 2020,<br/>19:30<sup class=\"reference\" id=\"cite_ref-526\"><a href=\"#cite_note-526\"><span class=\"cite-bracket\">[</span>514<span class=\"cite-bracket\">]</span></a></sup>\n",
      "</td>\n",
      "<td><a href=\"/wiki/Falcon_9_Block_5\" title=\"Falcon 9 Block 5\">F9 B5</a> ♺<br/><a href=\"/wiki/List_of_Falcon_9_first-stage_boosters#B1051\" title=\"List of Falcon 9 first-stage boosters\">B1051.4</a>\n",
      "</td>\n",
      "<td><a href=\"/wiki/Kennedy_Space_Center\" title=\"Kennedy Space Center\">KSC</a>,<br/><a href=\"/wiki/Kennedy_Space_Center_Launch_Complex_39A\" title=\"Kennedy Space Center Launch Complex 39A\">LC-39A</a>\n",
      "</td>\n",
      "<td><a href=\"/wiki/Starlink\" title=\"Starlink\">Starlink</a> 6 v1.0 (60 satellites)\n",
      "</td>\n",
      "<td>15,600 kg (34,400 lb)<sup class=\"reference\" id=\"cite_ref-SLNov19_5-9\"><a href=\"#cite_note-SLNov19-5\"><span class=\"cite-bracket\">[</span>5<span class=\"cite-bracket\">]</span></a></sup>\n",
      "</td>\n",
      "<td><a href=\"/wiki/Low_Earth_orbit\" title=\"Low Earth orbit\">LEO</a>\n",
      "</td>\n",
      "<td><a href=\"/wiki/SpaceX\" title=\"SpaceX\">SpaceX</a>\n",
      "</td>\n",
      "<td class=\"table-success\" style=\"background: #9EFF9E; color:black; vertical-align: middle; text-align: center;\">Success\n",
      "</td>\n",
      "<td class=\"table-success\" style=\"background: #9EFF9E; color:black; vertical-align: middle; text-align: center;\">Success<br/><small><span class=\"nowrap\">(drone ship)</span></small>\n",
      "</td></tr>\n",
      "<tr>\n",
      "<td colspan=\"9\">Sixth operational launch of Starlink satellites. The 84th flight of the Falcon 9 rocket, it surpassed <a href=\"/wiki/Atlas_V\" title=\"Atlas V\">Atlas V</a> to become the most-flown operational US rocket.<sup class=\"reference\" id=\"cite_ref-leader_527-0\"><a href=\"#cite_note-leader-527\"><span class=\"cite-bracket\">[</span>515<span class=\"cite-bracket\">]</span></a></sup> Used fairings launched on AMOS-17 (August 2019).<sup class=\"reference\" id=\"cite_ref-528\"><a href=\"#cite_note-528\"><span class=\"cite-bracket\">[</span>516<span class=\"cite-bracket\">]</span></a></sup>\n",
      "</td></tr>\n",
      "<tr>\n",
      "<th rowspan=\"2\" scope=\"row\" style=\"text-align:center;\">85\n",
      "</th>\n",
      "<td>30 May 2020,<br/>19:22<sup class=\"reference\" id=\"cite_ref-529\"><a href=\"#cite_note-529\"><span class=\"cite-bracket\">[</span>517<span class=\"cite-bracket\">]</span></a></sup>\n",
      "</td>\n",
      "<td><a href=\"/wiki/Falcon_9_Block_5\" title=\"Falcon 9 Block 5\">F9 B5</a><br/><a href=\"/wiki/List_of_Falcon_9_first-stage_boosters#B1058\" title=\"List of Falcon 9 first-stage boosters\">B1058.1</a><sup class=\"reference\" id=\"cite_ref-nsf_2Aug19_530-0\"><a href=\"#cite_note-nsf_2Aug19-530\"><span class=\"cite-bracket\">[</span>518<span class=\"cite-bracket\">]</span></a></sup>\n",
      "</td>\n",
      "<td><a href=\"/wiki/Kennedy_Space_Center\" title=\"Kennedy Space Center\">KSC</a>,<br/><a href=\"/wiki/Kennedy_Space_Center_Launch_Complex_39A\" title=\"Kennedy Space Center Launch Complex 39A\">LC-39A</a>\n",
      "</td>\n",
      "<td><a href=\"/wiki/Crew_Dragon_Demo-2\" title=\"Crew Dragon Demo-2\">Crew Dragon Demo-2</a><sup class=\"reference\" id=\"cite_ref-nsf20150305_424-1\"><a href=\"#cite_note-nsf20150305-424\"><span class=\"cite-bracket\">[</span>414<span class=\"cite-bracket\">]</span></a></sup><br/>(<a class=\"mw-redirect\" href=\"/wiki/SpaceX_Crew_Dragon_Endeavour\" title=\"SpaceX Crew Dragon Endeavour\">Crew Dragon C206.1 <i>Endeavour</i></a>)\n",
      "</td>\n",
      "<td>12,530 kg (27,620 lb)<sup class=\"reference\" id=\"cite_ref-531\"><a href=\"#cite_note-531\"><span class=\"cite-bracket\">[</span>519<span class=\"cite-bracket\">]</span></a></sup>\n",
      "</td>\n",
      "<td><a class=\"mw-redirect\" href=\"/wiki/Low_Earth_Orbit\" title=\"Low Earth Orbit\">LEO</a> (<a class=\"mw-redirect\" href=\"/wiki/ISS\" title=\"ISS\">ISS</a>)\n",
      "</td>\n",
      "<td><a href=\"/wiki/NASA\" title=\"NASA\">NASA</a> (<a class=\"mw-redirect\" href=\"/wiki/Commercial_Crew_Development\" title=\"Commercial Crew Development\">CCDev</a>)\n",
      "</td>\n",
      "<td class=\"table-success\" style=\"background: #9EFF9E; color:black; vertical-align: middle; text-align: center;\">Success\n",
      "</td>\n",
      "<td class=\"table-success\" style=\"background: #9EFF9E; color:black; vertical-align: middle; text-align: center;\">Success<br/><small><span class=\"nowrap\">(drone ship)</span></small>\n",
      "</td></tr>\n",
      "<tr>\n",
      "<td colspan=\"9\">First crewed orbital spaceflight from American soil since Space Shuttle <a href=\"/wiki/STS-135\" title=\"STS-135\">STS-135</a> in July 2011, carrying <a href=\"/wiki/NASA\" title=\"NASA\">NASA</a> astronauts <a href=\"/wiki/Bob_Behnken\" title=\"Bob Behnken\">Bob Behnken</a> and <a href=\"/wiki/Doug_Hurley\" title=\"Doug Hurley\">Doug Hurley</a> to the <a href=\"/wiki/International_Space_Station\" title=\"International Space Station\">International Space Station</a>.<sup class=\"reference\" id=\"cite_ref-nsf20150305_424-2\"><a href=\"#cite_note-nsf20150305-424\"><span class=\"cite-bracket\">[</span>414<span class=\"cite-bracket\">]</span></a></sup> The SpaceX live stream was peaked at 4.1 million viewers, while NASA estimated roughly 10 million people watched on various online platforms, and approximately 150,000 people gathered on Florida's <a class=\"mw-redirect\" href=\"/wiki/Space_coast\" title=\"Space coast\">space coast</a> despite the risks of the <a href=\"/wiki/COVID-19_pandemic\" title=\"COVID-19 pandemic\">COVID-19 pandemic</a>.<sup class=\"reference\" id=\"cite_ref-532\"><a href=\"#cite_note-532\"><span class=\"cite-bracket\">[</span>520<span class=\"cite-bracket\">]</span></a></sup>\n",
      "</td></tr>\n",
      "<tr>\n",
      "<th rowspan=\"2\" scope=\"row\" style=\"text-align:center;\">86\n",
      "</th>\n",
      "<td>4 June 2020,<br/>01:25<sup class=\"reference\" id=\"cite_ref-:16_533-0\"><a href=\"#cite_note-:16-533\"><span class=\"cite-bracket\">[</span>521<span class=\"cite-bracket\">]</span></a></sup>\n",
      "</td>\n",
      "<td><a href=\"/wiki/Falcon_9_Block_5\" title=\"Falcon 9 Block 5\">F9 B5</a> ♺<br/><a href=\"/wiki/List_of_Falcon_9_first-stage_boosters#B1049\" title=\"List of Falcon 9 first-stage boosters\">B1049.5</a>\n",
      "</td>\n",
      "<td><a class=\"mw-redirect\" href=\"/wiki/Cape_Canaveral_Air_Force_Station\" title=\"Cape Canaveral Air Force Station\">CCAFS</a>,<br/><a href=\"/wiki/Cape_Canaveral_Space_Launch_Complex_40\" title=\"Cape Canaveral Space Launch Complex 40\">SLC-40</a>\n",
      "</td>\n",
      "<td><a href=\"/wiki/Starlink\" title=\"Starlink\">Starlink</a> 7 v1.0 (60 satellites)\n",
      "</td>\n",
      "<td>15,600 kg (34,400 lb)<sup class=\"reference\" id=\"cite_ref-SLNov19_5-10\"><a href=\"#cite_note-SLNov19-5\"><span class=\"cite-bracket\">[</span>5<span class=\"cite-bracket\">]</span></a></sup>\n",
      "</td>\n",
      "<td><a href=\"/wiki/Low_Earth_orbit\" title=\"Low Earth orbit\">LEO</a>\n",
      "</td>\n",
      "<td><a href=\"/wiki/SpaceX\" title=\"SpaceX\">SpaceX</a>\n",
      "</td>\n",
      "<td class=\"table-success\" style=\"background: #9EFF9E; color:black; vertical-align: middle; text-align: center;\">Success\n",
      "</td>\n",
      "<td class=\"table-success\" style=\"background: #9EFF9E; color:black; vertical-align: middle; text-align: center;\">Success<br/><small><span class=\"nowrap\">(drone ship)</span></small>\n",
      "</td></tr>\n",
      "<tr>\n",
      "<td colspan=\"9\">Seventh operational launch of Starlink satellites, occurred on the 10th anniversary of the first Falcon 9 flight. Included \"VisorSat\" satellite test that uses a sunshade to limit reflectivity.<sup class=\"reference\" id=\"cite_ref-NAS280420_534-0\"><a href=\"#cite_note-NAS280420-534\"><span class=\"cite-bracket\">[</span>522<span class=\"cite-bracket\">]</span></a></sup> First booster to successfully land five times, and first to land on <a href=\"/wiki/Autonomous_spaceport_drone_ship\" title=\"Autonomous spaceport drone ship\">Just Read The Instructions</a> since it was moved to the <a href=\"/wiki/East_Coast_of_the_United_States\" title=\"East Coast of the United States\">East Coast</a>.\n",
      "</td></tr>\n",
      "<tr>\n",
      "<th rowspan=\"2\" scope=\"row\" style=\"text-align:center;\">87\n",
      "</th>\n",
      "<td>13 June 2020,<br/>09:21<sup class=\"reference\" id=\"cite_ref-:17_535-0\"><a href=\"#cite_note-:17-535\"><span class=\"cite-bracket\">[</span>523<span class=\"cite-bracket\">]</span></a></sup>\n",
      "</td>\n",
      "<td><a href=\"/wiki/Falcon_9_Block_5\" title=\"Falcon 9 Block 5\">F9 B5</a> ♺<br/><a href=\"/wiki/List_of_Falcon_9_first-stage_boosters#B1059\" title=\"List of Falcon 9 first-stage boosters\">B1059.3</a>\n",
      "</td>\n",
      "<td><a class=\"mw-redirect\" href=\"/wiki/Cape_Canaveral_Air_Force_Station\" title=\"Cape Canaveral Air Force Station\">CCAFS</a>,<br/><a href=\"/wiki/Cape_Canaveral_Space_Launch_Complex_40\" title=\"Cape Canaveral Space Launch Complex 40\">SLC-40</a>\n",
      "</td>\n",
      "<td><a href=\"/wiki/Starlink\" title=\"Starlink\">Starlink</a> 8 v1.0 (58 satellites),<sup class=\"reference\" id=\"cite_ref-nsf20200612_536-0\"><a href=\"#cite_note-nsf20200612-536\"><span class=\"cite-bracket\">[</span>524<span class=\"cite-bracket\">]</span></a></sup><sup class=\"reference\" id=\"cite_ref-537\"><a href=\"#cite_note-537\"><span class=\"cite-bracket\">[</span>525<span class=\"cite-bracket\">]</span></a></sup><br/><a href=\"/wiki/SkySat\" title=\"SkySat\">SkySats</a>-16, -17, -18\n",
      "</td>\n",
      "<td>15,410 kg (33,970 lb)<sup class=\"reference\" id=\"cite_ref-:17_535-1\"><a href=\"#cite_note-:17-535\"><span class=\"cite-bracket\">[</span>523<span class=\"cite-bracket\">]</span></a></sup>\n",
      "</td>\n",
      "<td><a href=\"/wiki/Low_Earth_orbit\" title=\"Low Earth orbit\">LEO</a>\n",
      "</td>\n",
      "<td><a href=\"/wiki/SpaceX\" title=\"SpaceX\">SpaceX</a><br/><a href=\"/wiki/Planet_Labs\" title=\"Planet Labs\">Planet Labs</a>\n",
      "</td>\n",
      "<td class=\"table-success\" style=\"background: #9EFF9E; color:black; vertical-align: middle; text-align: center;\">Success\n",
      "</td>\n",
      "<td class=\"table-success\" style=\"background: #9EFF9E; color:black; vertical-align: middle; text-align: center;\">Success<br/><small><span class=\"nowrap\">(drone ship)</span></small>\n",
      "</td></tr>\n",
      "<tr>\n",
      "<td colspan=\"9\">Eighth operational launch of Starlink satellites, included the first <a href=\"/wiki/Secondary_payload\" title=\"Secondary payload\">rideshare</a> in SpaceX's <a class=\"mw-redirect\" href=\"/wiki/SpaceX_SmallSat_Rideshare_Program\" title=\"SpaceX SmallSat Rideshare Program\">SmallSat Program</a>, of three <a href=\"/wiki/SkySat\" title=\"SkySat\">SkySat</a> satellites.<sup class=\"reference\" id=\"cite_ref-:15_538-0\"><a href=\"#cite_note-:15-538\"><span class=\"cite-bracket\">[</span>526<span class=\"cite-bracket\">]</span></a></sup><sup class=\"reference\" id=\"cite_ref-539\"><a href=\"#cite_note-539\"><span class=\"cite-bracket\">[</span>527<span class=\"cite-bracket\">]</span></a></sup> One payload fairing half launched on <a href=\"/wiki/JSAT_(satellite_constellation)\" title=\"JSAT (satellite constellation)\">JCSat-18</a> / <a href=\"/wiki/Kacific_Broadband_Satellites\" title=\"Kacific Broadband Satellites\">Kacific 1</a> mission in December 2019. The other payload fairing half flew on Starlink 2 v1.0 in January 2020.<sup class=\"reference\" id=\"cite_ref-540\"><a href=\"#cite_note-540\"><span class=\"cite-bracket\">[</span>528<span class=\"cite-bracket\">]</span></a></sup> For the first time, SpaceX did not perform a static fire before launch.\n",
      "</td></tr>\n",
      "<tr>\n",
      "<th rowspan=\"2\" scope=\"row\" style=\"text-align:center;\">88\n",
      "</th>\n",
      "<td>30 June 2020,<br/>20:10:46<sup class=\"reference\" id=\"cite_ref-541\"><a href=\"#cite_note-541\"><span class=\"cite-bracket\">[</span>529<span class=\"cite-bracket\">]</span></a></sup>\n",
      "</td>\n",
      "<td><a href=\"/wiki/Falcon_9_Block_5\" title=\"Falcon 9 Block 5\">F9 B5</a><br/><a href=\"/wiki/List_of_Falcon_9_first-stage_boosters#B1060\" title=\"List of Falcon 9 first-stage boosters\">B1060.1</a>\n",
      "</td>\n",
      "<td><a class=\"mw-redirect\" href=\"/wiki/Cape_Canaveral_Air_Force_Station\" title=\"Cape Canaveral Air Force Station\">CCAFS</a>,<br/><a href=\"/wiki/Cape_Canaveral_Space_Launch_Complex_40\" title=\"Cape Canaveral Space Launch Complex 40\">SLC-40</a>\n",
      "</td>\n",
      "<td><a href=\"/wiki/GPS_Block_III\" title=\"GPS Block III\">GPS III</a>-<a href=\"/wiki/List_of_GPS_satellites\" title=\"List of GPS satellites\">03</a> (<i><a href=\"/wiki/Matthew_Henson\" title=\"Matthew Henson\">Matthew Henson</a></i>)\n",
      "</td>\n",
      "<td>4,311 kg (9,504 lb)<sup class=\"reference\" id=\"cite_ref-clark-20200630_542-0\"><a href=\"#cite_note-clark-20200630-542\"><span class=\"cite-bracket\">[</span>530<span class=\"cite-bracket\">]</span></a></sup>\n",
      "</td>\n",
      "<td><a href=\"/wiki/Medium_Earth_orbit\" title=\"Medium Earth orbit\">MEO</a>\n",
      "</td>\n",
      "<td><a href=\"/wiki/United_States_Space_Force\" title=\"United States Space Force\">U.S. Space Force</a><sup class=\"reference\" id=\"cite_ref-clark-20200630_542-1\"><a href=\"#cite_note-clark-20200630-542\"><span class=\"cite-bracket\">[</span>530<span class=\"cite-bracket\">]</span></a></sup>\n",
      "</td>\n",
      "<td class=\"table-success\" style=\"background: #9EFF9E; color:black; vertical-align: middle; text-align: center;\">Success\n",
      "</td>\n",
      "<td class=\"table-success\" style=\"background: #9EFF9E; color:black; vertical-align: middle; text-align: center;\">Success<br/><small><span class=\"nowrap\">(drone ship)</span></small>\n",
      "</td></tr>\n",
      "<tr>\n",
      "<td colspan=\"9\">Payload manufacturing contract awarded January 2012,<sup class=\"reference\" id=\"cite_ref-gps_34_manufacturing_543-0\"><a href=\"#cite_note-gps_34_manufacturing-543\"><span class=\"cite-bracket\">[</span>531<span class=\"cite-bracket\">]</span></a></sup> fully assembled in August 2017,<sup class=\"reference\" id=\"cite_ref-gpsworld_20171127_544-0\"><a href=\"#cite_note-gpsworld_20171127-544\"><span class=\"cite-bracket\">[</span>532<span class=\"cite-bracket\">]</span></a></sup><sup class=\"reference\" id=\"cite_ref-gleckel-2017-11_545-0\"><a href=\"#cite_note-gleckel-2017-11-545\"><span class=\"cite-bracket\">[</span>533<span class=\"cite-bracket\">]</span></a></sup> and completed thermal vacuum testing in June 2018.<sup class=\"reference\" id=\"cite_ref-gps_status_20180926_546-0\"><a href=\"#cite_note-gps_status_20180926-546\"><span class=\"cite-bracket\">[</span>534<span class=\"cite-bracket\">]</span></a></sup> Launch contract was awarded initially for US$96.5 million,<sup class=\"reference\" id=\"cite_ref-547\"><a href=\"#cite_note-547\"><span class=\"cite-bracket\">[</span>535<span class=\"cite-bracket\">]</span></a></sup> but later, this was discounted in exchange for allowing to launch configuration enabling booster recovery.<sup class=\"reference\" id=\"cite_ref-548\"><a href=\"#cite_note-548\"><span class=\"cite-bracket\">[</span>536<span class=\"cite-bracket\">]</span></a></sup> The vehicle nicknamed <i>Columbus</i> was transported to Florida in February 2020,<sup class=\"reference\" id=\"cite_ref-549\"><a href=\"#cite_note-549\"><span class=\"cite-bracket\">[</span>537<span class=\"cite-bracket\">]</span></a></sup> but launch was delayed by the customer from April 2020 due to the <a href=\"/wiki/COVID-19\" title=\"COVID-19\">COVID-19</a> pandemic.<sup class=\"reference\" id=\"cite_ref-sn20200407_550-0\"><a href=\"#cite_note-sn20200407-550\"><span class=\"cite-bracket\">[</span>538<span class=\"cite-bracket\">]</span></a></sup> The launch was dedicated to the memory of the recently deceased, late commander of the <a href=\"/wiki/21st_Space_Wing\" title=\"21st Space Wing\">21st Space Wing</a>, Colonel Thomas G. Falzarano,<sup class=\"reference\" id=\"cite_ref-sn20200630_551-0\"><a href=\"#cite_note-sn20200630-551\"><span class=\"cite-bracket\">[</span>539<span class=\"cite-bracket\">]</span></a></sup><sup class=\"reference\" id=\"cite_ref-s&amp;s20200513_552-0\"><a href=\"#cite_note-s&amp;s20200513-552\"><span class=\"cite-bracket\">[</span>540<span class=\"cite-bracket\">]</span></a></sup> and after launch, in October 2020, the nickname was changed to that of the Arctic explorer <a href=\"/wiki/Matthew_Henson\" title=\"Matthew Henson\">Matthew Henson</a>.<sup class=\"reference\" id=\"cite_ref-GPS_553-0\"><a href=\"#cite_note-GPS-553\"><span class=\"cite-bracket\">[</span>541<span class=\"cite-bracket\">]</span></a></sup><sup class=\"reference\" id=\"cite_ref-sn-20160427_400-1\"><a href=\"#cite_note-sn-20160427-400\"><span class=\"cite-bracket\">[</span>390<span class=\"cite-bracket\">]</span></a></sup> The second stage featured a gray band to allow more heat to be absorbed during the longer coasting period,<sup class=\"reference\" id=\"cite_ref-554\"><a href=\"#cite_note-554\"><span class=\"cite-bracket\">[</span>542<span class=\"cite-bracket\">]</span></a></sup> while both fairings were recovered out of the water without attempting a catch in the net.\n",
      "</td></tr>\n",
      "<tr>\n",
      "<th rowspan=\"2\" scope=\"row\" style=\"text-align:center;\">89\n",
      "</th>\n",
      "<td>20 July 2020,<br/>21:30<sup class=\"reference\" id=\"cite_ref-SFN20200720_555-0\"><a href=\"#cite_note-SFN20200720-555\"><span class=\"cite-bracket\">[</span>543<span class=\"cite-bracket\">]</span></a></sup>\n",
      "</td>\n",
      "<td><a href=\"/wiki/Falcon_9_Block_5\" title=\"Falcon 9 Block 5\">F9 B5</a> ♺ <br/><a href=\"/wiki/List_of_Falcon_9_first-stage_boosters#B1058\" title=\"List of Falcon 9 first-stage boosters\">B1058.2</a><sup class=\"reference\" id=\"cite_ref-Gunter_556-0\"><a href=\"#cite_note-Gunter-556\"><span class=\"cite-bracket\">[</span>544<span class=\"cite-bracket\">]</span></a></sup>\n",
      "</td>\n",
      "<td><a class=\"mw-redirect\" href=\"/wiki/Cape_Canaveral_Air_Force_Station\" title=\"Cape Canaveral Air Force Station\">CCAFS</a>,<br/><a href=\"/wiki/Cape_Canaveral_Space_Launch_Complex_40\" title=\"Cape Canaveral Space Launch Complex 40\">SLC-40</a>\n",
      "</td>\n",
      "<td><a href=\"/wiki/ANASIS-II\" title=\"ANASIS-II\">ANASIS-II</a>\n",
      "</td>\n",
      "<td>5,000–6,000 kg (11,000–13,000 lb)\n",
      "</td>\n",
      "<td><a href=\"/wiki/Geostationary_transfer_orbit\" title=\"Geostationary transfer orbit\">GTO</a>\n",
      "</td>\n",
      "<td><a href=\"/wiki/Republic_of_Korea_Army\" title=\"Republic of Korea Army\">Republic of Korea Army</a>\n",
      "</td>\n",
      "<td class=\"table-success\" style=\"background: #9EFF9E; color:black; vertical-align: middle; text-align: center;\">Success\n",
      "</td>\n",
      "<td class=\"table-success\" style=\"background: #9EFF9E; color:black; vertical-align: middle; text-align: center;\">Success<br/><small><span class=\"nowrap\">(drone ship)</span></small>\n",
      "</td></tr>\n",
      "<tr>\n",
      "<td colspan=\"9\">At 5-6 tonnes, the satellite formerly known as <i>K-Milsat-1</i> is South Korea's first dedicated military satellite. Contracted by South Korea's <a href=\"/wiki/Defense_Acquisition_Program_Administration\" title=\"Defense Acquisition Program Administration\">Defense Acquisition Program Administration</a> in 2014.<sup class=\"reference\" id=\"cite_ref-557\"><a href=\"#cite_note-557\"><span class=\"cite-bracket\">[</span>545<span class=\"cite-bracket\">]</span></a></sup> 57th successful recovery of a Falcon 9 first stage. For the first time both fairing halves were also successfully caught by <a class=\"mw-redirect\" href=\"/wiki/Ms._Tree_(ship)\" title=\"Ms. Tree (ship)\">fairing catching ships</a>.<sup class=\"reference\" id=\"cite_ref-558\"><a href=\"#cite_note-558\"><span class=\"cite-bracket\">[</span>546<span class=\"cite-bracket\">]</span></a></sup> This launch featured a booster reflight within 51 days, a new record turnaround time for a Falcon booster.<sup class=\"reference\" id=\"cite_ref-559\"><a href=\"#cite_note-559\"><span class=\"cite-bracket\">[</span>547<span class=\"cite-bracket\">]</span></a></sup> It was the same booster that launched the <a href=\"/wiki/Crew_Dragon_Demo-2\" title=\"Crew Dragon Demo-2\">Crew Dragon Demo-2</a> spacecraft on 30 May 2020.<sup class=\"reference\" id=\"cite_ref-SFN20200720_555-1\"><a href=\"#cite_note-SFN20200720-555\"><span class=\"cite-bracket\">[</span>543<span class=\"cite-bracket\">]</span></a></sup> The satellite was delivered to a <a class=\"mw-redirect\" href=\"/wiki/Super-synchronous_transfer_orbit\" title=\"Super-synchronous transfer orbit\">super-synchronous transfer orbit</a> of 211 km × 45,454 km (131 mi × 28,244 mi), while both fairing halves were caught in the catch nets of the supports ships.<sup class=\"reference\" id=\"cite_ref-560\"><a href=\"#cite_note-560\"><span class=\"cite-bracket\">[</span>548<span class=\"cite-bracket\">]</span></a></sup>\n",
      "</td></tr>\n",
      "<tr>\n",
      "<th rowspan=\"2\" scope=\"row\" style=\"text-align:center;\">90\n",
      "</th>\n",
      "<td>7 August 2020,<br/>05:12<sup class=\"reference\" id=\"cite_ref-561\"><a href=\"#cite_note-561\"><span class=\"cite-bracket\">[</span>549<span class=\"cite-bracket\">]</span></a></sup>\n",
      "</td>\n",
      "<td><a href=\"/wiki/Falcon_9_Block_5\" title=\"Falcon 9 Block 5\">F9 B5</a> ♺<br/><a href=\"/wiki/List_of_Falcon_9_first-stage_boosters#B1051\" title=\"List of Falcon 9 first-stage boosters\">B1051.5</a>\n",
      "</td>\n",
      "<td><a href=\"/wiki/Kennedy_Space_Center\" title=\"Kennedy Space Center\">KSC</a>,<br/><a href=\"/wiki/Kennedy_Space_Center_Launch_Complex_39A\" title=\"Kennedy Space Center Launch Complex 39A\">LC-39A</a>\n",
      "</td>\n",
      "<td><a href=\"/wiki/Starlink\" title=\"Starlink\">Starlink</a> 9 v1.0 (57 Satellites),<sup class=\"reference\" id=\"cite_ref-nsf20200612_536-1\"><a href=\"#cite_note-nsf20200612-536\"><span class=\"cite-bracket\">[</span>524<span class=\"cite-bracket\">]</span></a></sup><br/><a href=\"/wiki/Spaceflight_Industries#BlackSky\" title=\"Spaceflight Industries\">SXRS-1 (BlackSky Global 7 and 8)</a>\n",
      "</td>\n",
      "<td>14,932 kg (32,919 lb)\n",
      "</td>\n",
      "<td><a href=\"/wiki/Low_Earth_orbit\" title=\"Low Earth orbit\">LEO</a>\n",
      "</td>\n",
      "<td><a href=\"/wiki/SpaceX\" title=\"SpaceX\">SpaceX</a><br/><a href=\"/wiki/Spaceflight_Industries\" title=\"Spaceflight Industries\">Spaceflight Industries</a> (BlackSky)\n",
      "</td>\n",
      "<td class=\"table-success\" style=\"background: #9EFF9E; color:black; vertical-align: middle; text-align: center;\">Success\n",
      "</td>\n",
      "<td class=\"table-success\" style=\"background: #9EFF9E; color:black; vertical-align: middle; text-align: center;\">Success<br/><small><span class=\"nowrap\">(drone ship)</span></small>\n",
      "</td></tr>\n",
      "<tr>\n",
      "<td colspan=\"9\">Ninth operational launch of Starlink satellites. This mission carried 57 Starlink satellites and two <a href=\"/wiki/Spaceflight_Industries#BlackSky\" title=\"Spaceflight Industries\">BlackSky</a> satellites as rideshare.<sup class=\"reference\" id=\"cite_ref-562\"><a href=\"#cite_note-562\"><span class=\"cite-bracket\">[</span>550<span class=\"cite-bracket\">]</span></a></sup> This first rideshare contracted with Spaceflight Industries was dubbed internally as \"SXRS-1\".<sup class=\"reference\" id=\"cite_ref-spaceflight-20200617_563-0\"><a href=\"#cite_note-spaceflight-20200617-563\"><span class=\"cite-bracket\">[</span>551<span class=\"cite-bracket\">]</span></a></sup> After previously testing on a single Starlink, the launch will have all 57 satellites include a \"VisorSat\" to reduce their brightness.<sup class=\"reference\" id=\"cite_ref-564\"><a href=\"#cite_note-564\"><span class=\"cite-bracket\">[</span>552<span class=\"cite-bracket\">]</span></a></sup>\n",
      "</td></tr>\n",
      "<tr>\n",
      "<th rowspan=\"2\" scope=\"row\" style=\"text-align:center;\">91\n",
      "</th>\n",
      "<td>18 August 2020 <br/>14:31<sup class=\"reference\" id=\"cite_ref-565\"><a href=\"#cite_note-565\"><span class=\"cite-bracket\">[</span>553<span class=\"cite-bracket\">]</span></a></sup>\n",
      "</td>\n",
      "<td><a href=\"/wiki/Falcon_9_Block_5\" title=\"Falcon 9 Block 5\">F9 B5</a> ♺<br/><a href=\"/wiki/List_of_Falcon_9_first-stage_boosters#B1049\" title=\"List of Falcon 9 first-stage boosters\">B1049.6</a><sup class=\"reference\" id=\"cite_ref-Gunter_556-1\"><a href=\"#cite_note-Gunter-556\"><span class=\"cite-bracket\">[</span>544<span class=\"cite-bracket\">]</span></a></sup>\n",
      "</td>\n",
      "<td><a class=\"mw-redirect\" href=\"/wiki/Cape_Canaveral_Air_Force_Station\" title=\"Cape Canaveral Air Force Station\">CCAFS</a>,<br/><a href=\"/wiki/Cape_Canaveral_Space_Launch_Complex_40\" title=\"Cape Canaveral Space Launch Complex 40\">SLC-40</a>\n",
      "</td>\n",
      "<td><a href=\"/wiki/Starlink\" title=\"Starlink\">Starlink</a> 10 v1.0 (58 satellites)<br/><a href=\"/wiki/SkySat\" title=\"SkySat\">SkySat</a>-19, -20, -21\n",
      "</td>\n",
      "<td>~15,440 kg (34,040 lb)\n",
      "</td>\n",
      "<td><a href=\"/wiki/Low_Earth_orbit\" title=\"Low Earth orbit\">LEO</a>\n",
      "</td>\n",
      "<td><a href=\"/wiki/SpaceX\" title=\"SpaceX\">SpaceX</a><br/><a href=\"/wiki/Planet_Labs\" title=\"Planet Labs\">Planet Labs</a>\n",
      "</td>\n",
      "<td class=\"table-success\" style=\"background: #9EFF9E; color:black; vertical-align: middle; text-align: center;\">Success\n",
      "</td>\n",
      "<td class=\"table-success\" style=\"background: #9EFF9E; color:black; vertical-align: middle; text-align: center;\">Success<br/><small><span class=\"nowrap\">(drone ship)</span></small>\n",
      "</td></tr>\n",
      "<tr>\n",
      "<td colspan=\"9\">Tenth operational launch of Starlink satellites. Starlink flight including three <a href=\"/wiki/SkySat\" title=\"SkySat\">SkySat</a> rideshare satellites.<sup class=\"reference\" id=\"cite_ref-:15_538-1\"><a href=\"#cite_note-:15-538\"><span class=\"cite-bracket\">[</span>526<span class=\"cite-bracket\">]</span></a></sup> First time a booster made a 6th flight.<sup class=\"reference\" id=\"cite_ref-566\"><a href=\"#cite_note-566\"><span class=\"cite-bracket\">[</span>554<span class=\"cite-bracket\">]</span></a></sup> The fairings previously flew on Starlink 3 v1.0. One fairing half was caught by <i>Go Ms. Tree</i>, the other was scooped out of the ocean.<sup class=\"reference\" id=\"cite_ref-:15_538-2\"><a href=\"#cite_note-:15-538\"><span class=\"cite-bracket\">[</span>526<span class=\"cite-bracket\">]</span></a></sup>\n",
      "</td></tr>\n",
      "<tr>\n",
      "<th rowspan=\"2\" scope=\"row\" style=\"text-align:center;\">92\n",
      "</th>\n",
      "<td>30 August 2020<br/>23:18<sup class=\"reference\" id=\"cite_ref-567\"><a href=\"#cite_note-567\"><span class=\"cite-bracket\">[</span>555<span class=\"cite-bracket\">]</span></a></sup>\n",
      "</td>\n",
      "<td><a href=\"/wiki/Falcon_9_Block_5\" title=\"Falcon 9 Block 5\">F9 B5</a> ♺<br/><a href=\"/wiki/List_of_Falcon_9_first-stage_boosters#B1059\" title=\"List of Falcon 9 first-stage boosters\">B1059.4</a>\n",
      "</td>\n",
      "<td><a class=\"mw-redirect\" href=\"/wiki/Cape_Canaveral_Air_Force_Station\" title=\"Cape Canaveral Air Force Station\">CCAFS</a>,<br/><a href=\"/wiki/Cape_Canaveral_Space_Launch_Complex_40\" title=\"Cape Canaveral Space Launch Complex 40\">SLC-40</a>\n",
      "</td>\n",
      "<td><a class=\"mw-redirect\" href=\"/wiki/SAOCOM_1B\" title=\"SAOCOM 1B\">SAOCOM 1B</a><sup class=\"reference\" id=\"cite_ref-skyrocket-saocom1b_568-0\"><a href=\"#cite_note-skyrocket-saocom1b-568\"><span class=\"cite-bracket\">[</span>556<span class=\"cite-bracket\">]</span></a></sup><br/><a class=\"new\" href=\"/w/index.php?title=GNOMES_1&amp;action=edit&amp;redlink=1\" title=\"GNOMES 1 (page does not exist)\">GNOMES 1</a><sup class=\"reference\" id=\"cite_ref-skyrocket-saocom1b_568-1\"><a href=\"#cite_note-skyrocket-saocom1b-568\"><span class=\"cite-bracket\">[</span>556<span class=\"cite-bracket\">]</span></a></sup><br/><a href=\"/wiki/Tyvak\" title=\"Tyvak\">Tyvak-0172</a><sup class=\"reference\" id=\"cite_ref-SAOCOM_1B_Mission_569-0\"><a href=\"#cite_note-SAOCOM_1B_Mission-569\"><span class=\"cite-bracket\">[</span>557<span class=\"cite-bracket\">]</span></a></sup>\n",
      "</td>\n",
      "<td>3,130 kg (6,900 lb)<sup class=\"reference\" id=\"cite_ref-570\"><a href=\"#cite_note-570\"><span class=\"cite-bracket\">[</span>558<span class=\"cite-bracket\">]</span></a></sup>\n",
      "</td>\n",
      "<td><a href=\"/wiki/Sun-synchronous_orbit\" title=\"Sun-synchronous orbit\">SSO</a>\n",
      "</td>\n",
      "<td><a class=\"mw-redirect\" href=\"/wiki/CONAE\" title=\"CONAE\">CONAE</a><br/><a class=\"new\" href=\"/w/index.php?title=PlanetIQ&amp;action=edit&amp;redlink=1\" title=\"PlanetIQ (page does not exist)\">PlanetIQ</a><br/><a href=\"/wiki/Tyvak\" title=\"Tyvak\">Tyvak</a>\n",
      "</td>\n",
      "<td class=\"table-success\" style=\"background: #9EFF9E; color:black; vertical-align: middle; text-align: center;\">Success\n",
      "</td>\n",
      "<td class=\"table-success\" style=\"background: #9EFF9E; color:black; vertical-align: middle; text-align: center;\">Success<br/><small><span class=\"nowrap\">(ground pad)</span></small>\n",
      "</td></tr>\n",
      "<tr>\n",
      "<td colspan=\"9\">The 100th launch in SpaceX's history, first time a commercial launch on a fourth launch of a booster, it deployed Earth-observing satellites built by Argentina's space agency CONAE and two rideshares. SpaceX was contracted in 2009 for an initial launch as early as 2013.<sup class=\"reference\" id=\"cite_ref-571\"><a href=\"#cite_note-571\"><span class=\"cite-bracket\">[</span>559<span class=\"cite-bracket\">]</span></a></sup> Originally planned for launch from Vandenberg but launched from Cape Canaveral, which made it the first flight from there using the southern corridor to a polar orbit since 1969.<sup class=\"reference\" id=\"cite_ref-572\"><a href=\"#cite_note-572\"><span class=\"cite-bracket\">[</span>560<span class=\"cite-bracket\">]</span></a></sup><sup class=\"reference\" id=\"cite_ref-573\"><a href=\"#cite_note-573\"><span class=\"cite-bracket\">[</span>561<span class=\"cite-bracket\">]</span></a></sup>\n",
      "</td></tr>\n",
      "<tr>\n",
      "<th rowspan=\"2\" scope=\"row\" style=\"text-align:center;\">93\n",
      "</th>\n",
      "<td>3 September 2020<br/>12:46:14<sup class=\"reference\" id=\"cite_ref-sfn-20200903_574-0\"><a href=\"#cite_note-sfn-20200903-574\"><span class=\"cite-bracket\">[</span>562<span class=\"cite-bracket\">]</span></a></sup>\n",
      "</td>\n",
      "<td><a href=\"/wiki/Falcon_9_Block_5\" title=\"Falcon 9 Block 5\">F9 B5</a> ♺<br/><a href=\"/wiki/List_of_Falcon_9_first-stage_boosters#B1060\" title=\"List of Falcon 9 first-stage boosters\">B1060.2</a><sup class=\"reference\" id=\"cite_ref-nsf290820_575-0\"><a href=\"#cite_note-nsf290820-575\"><span class=\"cite-bracket\">[</span>563<span class=\"cite-bracket\">]</span></a></sup>\n",
      "</td>\n",
      "<td><a href=\"/wiki/Kennedy_Space_Center\" title=\"Kennedy Space Center\">KSC</a>,<br/><a href=\"/wiki/Kennedy_Space_Center_Launch_Complex_39A\" title=\"Kennedy Space Center Launch Complex 39A\">LC-39A</a>\n",
      "</td>\n",
      "<td><a href=\"/wiki/Starlink\" title=\"Starlink\">Starlink</a> 11 v1.0 (60 satellites)\n",
      "</td>\n",
      "<td>15,600 kg (34,400 lb)<sup class=\"reference\" id=\"cite_ref-SLNov19_5-11\"><a href=\"#cite_note-SLNov19-5\"><span class=\"cite-bracket\">[</span>5<span class=\"cite-bracket\">]</span></a></sup>\n",
      "</td>\n",
      "<td><a href=\"/wiki/Low_Earth_orbit\" title=\"Low Earth orbit\">LEO</a>\n",
      "</td>\n",
      "<td><a href=\"/wiki/SpaceX\" title=\"SpaceX\">SpaceX</a>\n",
      "</td>\n",
      "<td class=\"table-success\" style=\"background: #9EFF9E; color:black; vertical-align: middle; text-align: center;\">Success\n",
      "</td>\n",
      "<td class=\"table-success\" style=\"background: #9EFF9E; color:black; vertical-align: middle; text-align: center;\">Success<br/><small><span class=\"nowrap\">(drone ship)</span></small>\n",
      "</td></tr>\n",
      "<tr>\n",
      "<td colspan=\"9\">Eleventh operational launch of Starlink satellites, bringing the total to 713 launched Starlink satellites.<sup class=\"reference\" id=\"cite_ref-sfn-20200903_574-1\"><a href=\"#cite_note-sfn-20200903-574\"><span class=\"cite-bracket\">[</span>562<span class=\"cite-bracket\">]</span></a></sup>\n",
      "</td></tr>\n",
      "<tr>\n",
      "<th rowspan=\"2\" scope=\"row\" style=\"text-align:center;\">94\n",
      "</th>\n",
      "<td>6 October 2020<br/>11:29:34<sup class=\"reference\" id=\"cite_ref-576\"><a href=\"#cite_note-576\"><span class=\"cite-bracket\">[</span>564<span class=\"cite-bracket\">]</span></a></sup>\n",
      "</td>\n",
      "<td><a href=\"/wiki/Falcon_9_Block_5\" title=\"Falcon 9 Block 5\">F9 B5</a> ♺<br/><a href=\"/wiki/List_of_Falcon_9_first-stage_boosters\" title=\"List of Falcon 9 first-stage boosters\">B1058.3</a><sup class=\"reference\" id=\"cite_ref-577\"><a href=\"#cite_note-577\"><span class=\"cite-bracket\">[</span>565<span class=\"cite-bracket\">]</span></a></sup>\n",
      "</td>\n",
      "<td><a href=\"/wiki/Kennedy_Space_Center\" title=\"Kennedy Space Center\">KSC</a>,<br/><a href=\"/wiki/Kennedy_Space_Center_Launch_Complex_39A\" title=\"Kennedy Space Center Launch Complex 39A\">LC-39A</a>\n",
      "</td>\n",
      "<td><a href=\"/wiki/Starlink\" title=\"Starlink\">Starlink</a> 12 v1.0 (60 satellites)\n",
      "</td>\n",
      "<td>15,600 kg (34,400 lb)<sup class=\"reference\" id=\"cite_ref-SLNov19_5-12\"><a href=\"#cite_note-SLNov19-5\"><span class=\"cite-bracket\">[</span>5<span class=\"cite-bracket\">]</span></a></sup>\n",
      "</td>\n",
      "<td><a href=\"/wiki/Low_Earth_orbit\" title=\"Low Earth orbit\">LEO</a>\n",
      "</td>\n",
      "<td><a href=\"/wiki/SpaceX\" title=\"SpaceX\">SpaceX</a>\n",
      "</td>\n",
      "<td class=\"table-success\" style=\"background: #9EFF9E; color:black; vertical-align: middle; text-align: center;\">Success\n",
      "</td>\n",
      "<td class=\"table-success\" style=\"background: #9EFF9E; color:black; vertical-align: middle; text-align: center;\">Success<br/><small><span class=\"nowrap\">(drone ship)</span></small>\n",
      "</td></tr>\n",
      "<tr>\n",
      "<td colspan=\"9\">Twelfth operational launch of Starlink satellites, which for the first time used a fairing half on its third launch.<sup class=\"reference\" id=\"cite_ref-578\"><a href=\"#cite_note-578\"><span class=\"cite-bracket\">[</span>566<span class=\"cite-bracket\">]</span></a></sup> Also, the B1058 holds the title for the shortest time a booster reached 3 flights which is 129 days beating B1046 by 77 days.\n",
      "</td></tr>\n",
      "<tr>\n",
      "<th rowspan=\"2\" scope=\"row\" style=\"text-align:center;\">95\n",
      "</th>\n",
      "<td>18 October 2020<br/>12:25:57<sup class=\"reference\" id=\"cite_ref-579\"><a href=\"#cite_note-579\"><span class=\"cite-bracket\">[</span>567<span class=\"cite-bracket\">]</span></a></sup>\n",
      "</td>\n",
      "<td><a href=\"/wiki/Falcon_9_Block_5\" title=\"Falcon 9 Block 5\">F9 B5</a> ♺<br/><a href=\"/wiki/List_of_Falcon_9_first-stage_boosters\" title=\"List of Falcon 9 first-stage boosters\">B1051.6</a><sup class=\"reference\" id=\"cite_ref-580\"><a href=\"#cite_note-580\"><span class=\"cite-bracket\">[</span>568<span class=\"cite-bracket\">]</span></a></sup>\n",
      "</td>\n",
      "<td><a href=\"/wiki/Kennedy_Space_Center\" title=\"Kennedy Space Center\">KSC</a>,<br/><a href=\"/wiki/Kennedy_Space_Center_Launch_Complex_39A\" title=\"Kennedy Space Center Launch Complex 39A\">LC-39A</a>\n",
      "</td>\n",
      "<td><a href=\"/wiki/Starlink\" title=\"Starlink\">Starlink</a> 13 v1.0 (60 satellites)\n",
      "</td>\n",
      "<td>15,600 kg (34,400 lb)<sup class=\"reference\" id=\"cite_ref-SLNov19_5-13\"><a href=\"#cite_note-SLNov19-5\"><span class=\"cite-bracket\">[</span>5<span class=\"cite-bracket\">]</span></a></sup>\n",
      "</td>\n",
      "<td><a href=\"/wiki/Low_Earth_orbit\" title=\"Low Earth orbit\">LEO</a>\n",
      "</td>\n",
      "<td><a href=\"/wiki/SpaceX\" title=\"SpaceX\">SpaceX</a>\n",
      "</td>\n",
      "<td class=\"table-success\" style=\"background: #9EFF9E; color:black; vertical-align: middle; text-align: center;\">Success\n",
      "</td>\n",
      "<td class=\"table-success\" style=\"background: #9EFF9E; color:black; vertical-align: middle; text-align: center;\">Success<br/><small><span class=\"nowrap\">(drone ship)</span></small>\n",
      "</td></tr>\n",
      "<tr>\n",
      "<td colspan=\"9\">Thirteenth operational launch of Starlink satellites. Second time a booster was flown six times and first time both fairing halves were flown a third time. Both fairing halves landed on their respective ships but one fairing broke the net on Ms Tree.<sup class=\"reference\" id=\"cite_ref-581\"><a href=\"#cite_note-581\"><span class=\"cite-bracket\">[</span>569<span class=\"cite-bracket\">]</span></a></sup>\n",
      "</td></tr>\n",
      "<tr>\n",
      "<th rowspan=\"2\" scope=\"row\" style=\"text-align:center;\">96\n",
      "</th>\n",
      "<td>24 October 2020<br/>15:31:34<sup class=\"reference\" id=\"cite_ref-582\"><a href=\"#cite_note-582\"><span class=\"cite-bracket\">[</span>570<span class=\"cite-bracket\">]</span></a></sup>\n",
      "</td>\n",
      "<td><a href=\"/wiki/Falcon_9_Block_5\" title=\"Falcon 9 Block 5\">F9 B5</a> ♺<br/><a href=\"/wiki/List_of_Falcon_9_first-stage_boosters\" title=\"List of Falcon 9 first-stage boosters\">B1060.3</a>\n",
      "</td>\n",
      "<td><a class=\"mw-redirect\" href=\"/wiki/Cape_Canaveral_Air_Force_Station\" title=\"Cape Canaveral Air Force Station\">CCAFS</a>,<br/><a href=\"/wiki/Cape_Canaveral_Space_Launch_Complex_40\" title=\"Cape Canaveral Space Launch Complex 40\">SLC-40</a>\n",
      "</td>\n",
      "<td><a href=\"/wiki/Starlink\" title=\"Starlink\">Starlink</a> 14 v1.0 (60 satellites)\n",
      "</td>\n",
      "<td>15,600 kg (34,400 lb)\n",
      "</td>\n",
      "<td><a href=\"/wiki/Low_Earth_orbit\" title=\"Low Earth orbit\">LEO</a>\n",
      "</td>\n",
      "<td><a href=\"/wiki/SpaceX\" title=\"SpaceX\">SpaceX</a>\n",
      "</td>\n",
      "<td class=\"table-success\" style=\"background: #9EFF9E; color:black; vertical-align: middle; text-align: center;\">Success\n",
      "</td>\n",
      "<td class=\"table-success\" style=\"background: #9EFF9E; color:black; vertical-align: middle; text-align: center;\">Success<br/><small><span class=\"nowrap\">(drone ship)</span></small>\n",
      "</td></tr>\n",
      "<tr>\n",
      "<td colspan=\"9\">Fourteenth operational launch of Starlink satellites and the 100th successful launch of a Falcon vehicle.<sup class=\"reference\" id=\"cite_ref-583\"><a href=\"#cite_note-583\"><span class=\"cite-bracket\">[</span>571<span class=\"cite-bracket\">]</span></a></sup>\n",
      "</td></tr>\n",
      "<tr>\n",
      "<th rowspan=\"2\" scope=\"row\" style=\"text-align:center;\">97\n",
      "</th>\n",
      "<td>5 November 2020<br/>23:24:23<sup class=\"reference\" id=\"cite_ref-584\"><a href=\"#cite_note-584\"><span class=\"cite-bracket\">[</span>572<span class=\"cite-bracket\">]</span></a></sup>\n",
      "</td>\n",
      "<td><a href=\"/wiki/Falcon_9_Block_5\" title=\"Falcon 9 Block 5\">F9 B5</a><br/><a href=\"/wiki/List_of_Falcon_9_first-stage_boosters#B1062\" title=\"List of Falcon 9 first-stage boosters\">B1062.1</a>\n",
      "</td>\n",
      "<td><a class=\"mw-redirect\" href=\"/wiki/Cape_Canaveral_Air_Force_Station\" title=\"Cape Canaveral Air Force Station\">CCAFS</a>,<br/><a href=\"/wiki/Cape_Canaveral_Space_Launch_Complex_40\" title=\"Cape Canaveral Space Launch Complex 40\">SLC-40</a>\n",
      "</td>\n",
      "<td><a href=\"/wiki/GPS_Block_III\" title=\"GPS Block III\">GPS III</a>-<a href=\"/wiki/List_of_GPS_satellites#Planned_launches\" title=\"List of GPS satellites\">04</a> (<i><a href=\"/wiki/Sacagawea\" title=\"Sacagawea\">Sacagawea</a></i>)<sup class=\"reference\" id=\"cite_ref-GPS_553-1\"><a href=\"#cite_note-GPS-553\"><span class=\"cite-bracket\">[</span>541<span class=\"cite-bracket\">]</span></a></sup><sup class=\"reference\" id=\"cite_ref-cr-048-15_585-0\"><a href=\"#cite_note-cr-048-15-585\"><span class=\"cite-bracket\">[</span>573<span class=\"cite-bracket\">]</span></a></sup>\n",
      "</td>\n",
      "<td>4,311 kg (9,504 lb)\n",
      "</td>\n",
      "<td><a href=\"/wiki/Medium_Earth_orbit\" title=\"Medium Earth orbit\">MEO</a>\n",
      "</td>\n",
      "<td><a href=\"/wiki/United_States_Space_Force\" title=\"United States Space Force\">USSF</a>\n",
      "</td>\n",
      "<td class=\"table-success\" style=\"background: #9EFF9E; color:black; vertical-align: middle; text-align: center;\">Success\n",
      "</td>\n",
      "<td class=\"table-success\" style=\"background: #9EFF9E; color:black; vertical-align: middle; text-align: center;\">Success<br/><small><span class=\"nowrap\">(drone ship)</span></small>\n",
      "</td></tr>\n",
      "<tr>\n",
      "<td colspan=\"9\">Manufacturing contract awarded in January 2012,<sup class=\"reference\" id=\"cite_ref-gps_34_manufacturing_543-1\"><a href=\"#cite_note-gps_34_manufacturing-543\"><span class=\"cite-bracket\">[</span>531<span class=\"cite-bracket\">]</span></a></sup> underwent thermal vacuum testing in December 2018,<sup class=\"reference\" id=\"cite_ref-gps_advisory_board_2018_20181205_586-0\"><a href=\"#cite_note-gps_advisory_board_2018_20181205-586\"><span class=\"cite-bracket\">[</span>574<span class=\"cite-bracket\">]</span></a></sup> while the launch contract was awarded in March 2018.<sup class=\"reference\" id=\"cite_ref-587\"><a href=\"#cite_note-587\"><span class=\"cite-bracket\">[</span>575<span class=\"cite-bracket\">]</span></a></sup> A launch attempt on 3 October 2020 was aborted two seconds before liftoff due to early start in two engines.<sup class=\"reference\" id=\"cite_ref-588\"><a href=\"#cite_note-588\"><span class=\"cite-bracket\">[</span>576<span class=\"cite-bracket\">]</span></a></sup><sup class=\"reference\" id=\"cite_ref-589\"><a href=\"#cite_note-589\"><span class=\"cite-bracket\">[</span>577<span class=\"cite-bracket\">]</span></a></sup> Following the abort, two engines from B1062 were sent for further testing.<sup class=\"reference\" id=\"cite_ref-590\"><a href=\"#cite_note-590\"><span class=\"cite-bracket\">[</span>578<span class=\"cite-bracket\">]</span></a></sup> The abort also caused delays to the Crew-1 launch to allow time for data review.<sup class=\"reference\" id=\"cite_ref-591\"><a href=\"#cite_note-591\"><span class=\"cite-bracket\">[</span>579<span class=\"cite-bracket\">]</span></a></sup><sup class=\"reference\" id=\"cite_ref-592\"><a href=\"#cite_note-592\"><span class=\"cite-bracket\">[</span>580<span class=\"cite-bracket\">]</span></a></sup>\n",
      "</td></tr>\n",
      "<tr>\n",
      "<th rowspan=\"2\" scope=\"row\" style=\"text-align:center;\">98\n",
      "</th>\n",
      "<td>16 November 2020<br/>00:27<sup class=\"reference\" id=\"cite_ref-593\"><a href=\"#cite_note-593\"><span class=\"cite-bracket\">[</span>581<span class=\"cite-bracket\">]</span></a></sup>\n",
      "</td>\n",
      "<td><a href=\"/wiki/Falcon_9_Block_5\" title=\"Falcon 9 Block 5\">F9 B5</a><br/><a href=\"/wiki/List_of_Falcon_9_first-stage_boosters#B1061\" title=\"List of Falcon 9 first-stage boosters\">B1061.1</a><sup class=\"reference\" id=\"cite_ref-594\"><a href=\"#cite_note-594\"><span class=\"cite-bracket\">[</span>582<span class=\"cite-bracket\">]</span></a></sup>\n",
      "</td>\n",
      "<td><a href=\"/wiki/Kennedy_Space_Center\" title=\"Kennedy Space Center\">KSC</a>,<br/><a href=\"/wiki/Kennedy_Space_Center_Launch_Complex_39A\" title=\"Kennedy Space Center Launch Complex 39A\">LC-39A</a>\n",
      "</td>\n",
      "<td><a href=\"/wiki/SpaceX_Crew-1\" title=\"SpaceX Crew-1\">Crew-1</a><br/>(<a href=\"/wiki/Crew_Dragon_Resilience\" title=\"Crew Dragon Resilience\">Crew Dragon C207.1 <i>Resilience</i></a>)\n",
      "</td>\n",
      "<td>~12,500 kg (27,600 lb)\n",
      "</td>\n",
      "<td><a class=\"mw-redirect\" href=\"/wiki/Low_Earth_Orbit\" title=\"Low Earth Orbit\">LEO</a> (<a class=\"mw-redirect\" href=\"/wiki/ISS\" title=\"ISS\">ISS</a>)\n",
      "</td>\n",
      "<td><a href=\"/wiki/NASA\" title=\"NASA\">NASA</a> (<a href=\"/wiki/Commercial_Crew_Program\" title=\"Commercial Crew Program\">CCP</a>)<sup class=\"reference\" id=\"cite_ref-CCD6_509-1\"><a href=\"#cite_note-CCD6-509\"><span class=\"cite-bracket\">[</span>497<span class=\"cite-bracket\">]</span></a></sup>\n",
      "</td>\n",
      "<td class=\"table-success\" style=\"background: #9EFF9E; color:black; vertical-align: middle; text-align: center;\">Success\n",
      "</td>\n",
      "<td class=\"table-success\" style=\"background: #9EFF9E; color:black; vertical-align: middle; text-align: center;\">Success<br/><small><span class=\"nowrap\">(drone ship)</span></small>\n",
      "</td></tr>\n",
      "<tr>\n",
      "<td colspan=\"9\">First crew rotation of the commercial crew program, following the return in August of the crewed test flight mission <a href=\"/wiki/Crew_Dragon_Demo-2\" title=\"Crew Dragon Demo-2\">Crew Demo 2</a>. Originally designated \"USCV-1\" by NASA. Carried astronauts <a href=\"/wiki/Victor_J._Glover\" title=\"Victor J. Glover\">Victor Glover</a>, <a href=\"/wiki/Michael_S._Hopkins\" title=\"Michael S. Hopkins\">Mike Hopkins</a>, <a href=\"/wiki/Shannon_Walker\" title=\"Shannon Walker\">Shannon Walker</a> and <a href=\"/wiki/Soichi_Noguchi\" title=\"Soichi Noguchi\">Soichi Noguchi</a>, for a 6-month stay aboard the ISS, during which the <a href=\"/wiki/Boeing_Starliner\" title=\"Boeing Starliner\">Boeing Starliner</a> <a class=\"mw-redirect\" href=\"/wiki/Orbital_Flight_Test_2\" title=\"Orbital Flight Test 2\">OFT-2</a> flight is expected to dock also.<sup class=\"reference\" id=\"cite_ref-595\"><a href=\"#cite_note-595\"><span class=\"cite-bracket\">[</span>583<span class=\"cite-bracket\">]</span></a></sup> The first flight of the crew program was initially expected to launch in 2017,<sup class=\"reference\" id=\"cite_ref-596\"><a href=\"#cite_note-596\"><span class=\"cite-bracket\">[</span>584<span class=\"cite-bracket\">]</span></a></sup><sup class=\"reference\" id=\"cite_ref-scientificamerican-2_597-0\"><a href=\"#cite_note-scientificamerican-2-597\"><span class=\"cite-bracket\">[</span>585<span class=\"cite-bracket\">]</span></a></sup> and finished final certifications in November 2020.<sup class=\"reference\" id=\"cite_ref-598\"><a href=\"#cite_note-598\"><span class=\"cite-bracket\">[</span>586<span class=\"cite-bracket\">]</span></a></sup>\n",
      "</td></tr>\n",
      "<tr>\n",
      "<th rowspan=\"2\" scope=\"row\" style=\"text-align:center;\">99\n",
      "</th>\n",
      "<td>21 November 2020<br/>17:17:08<sup class=\"reference\" id=\"cite_ref-599\"><a href=\"#cite_note-599\"><span class=\"cite-bracket\">[</span>587<span class=\"cite-bracket\">]</span></a></sup>\n",
      "</td>\n",
      "<td><a href=\"/wiki/Falcon_9_Block_5\" title=\"Falcon 9 Block 5\">F9 B5</a><br/><a href=\"/wiki/List_of_Falcon_9_first-stage_boosters#B1063\" title=\"List of Falcon 9 first-stage boosters\">B1063.1</a>\n",
      "</td>\n",
      "<td><a class=\"mw-redirect\" href=\"/wiki/Vandenberg_Air_Force_Base\" title=\"Vandenberg Air Force Base\">VAFB</a>,<br/><a href=\"/wiki/Vandenberg_Space_Launch_Complex_4\" title=\"Vandenberg Space Launch Complex 4\">SLC-4E</a>\n",
      "</td>\n",
      "<td><a class=\"mw-redirect\" href=\"/wiki/Copernicus_Sentinel-6\" title=\"Copernicus Sentinel-6\">Sentinel-6 Michael Freilich (Jason-CS A)</a>\n",
      "</td>\n",
      "<td>1,192 kg (2,628 lb)\n",
      "</td>\n",
      "<td><a class=\"mw-redirect\" href=\"/wiki/Low_Earth_Orbit\" title=\"Low Earth Orbit\">LEO</a>\n",
      "</td>\n",
      "<td><a href=\"/wiki/NASA\" title=\"NASA\">NASA</a> / <a class=\"mw-redirect\" href=\"/wiki/NOAA\" title=\"NOAA\">NOAA</a> / <a class=\"mw-redirect\" href=\"/wiki/ESA\" title=\"ESA\">ESA</a> / <a href=\"/wiki/EUMETSAT\" title=\"EUMETSAT\">EUMETSAT</a>\n",
      "</td>\n",
      "<td class=\"table-success\" style=\"background: #9EFF9E; color:black; vertical-align: middle; text-align: center;\">Success\n",
      "</td>\n",
      "<td class=\"table-success\" style=\"background: #9EFF9E; color:black; vertical-align: middle; text-align: center;\">Success<br/><small><span class=\"nowrap\">(ground pad)</span></small>\n",
      "</td></tr>\n",
      "<tr>\n",
      "<td colspan=\"9\">Named after the former director of NASA's Earth science program, it is a radar altimeter satellite part of the <a href=\"/wiki/Ocean_surface_topography#Satellite_missions\" title=\"Ocean surface topography\">Ocean Surface Topography</a> constellation located at 1,336 km (830 mi) and 66° <a href=\"/wiki/Orbital_inclination\" title=\"Orbital inclination\">inclination</a>, and a follow-up to <a class=\"mw-redirect\" href=\"/wiki/Jason_3\" title=\"Jason 3\">Jason 3</a> as a partnership between the United States (<a href=\"/wiki/National_Oceanic_and_Atmospheric_Administration\" title=\"National Oceanic and Atmospheric Administration\">NOAA</a> and <a href=\"/wiki/NASA\" title=\"NASA\">NASA</a>), <a href=\"/wiki/Europe\" title=\"Europe\">Europe</a> (<a class=\"mw-redirect\" href=\"/wiki/European_Organisation_for_the_Exploitation_of_Meteorological_Satellites\" title=\"European Organisation for the Exploitation of Meteorological Satellites\">EUMETSAT</a>, <a href=\"/wiki/European_Space_Agency\" title=\"European Space Agency\">ESA</a>, <a href=\"/wiki/CNES\" title=\"CNES\">CNES</a>).<sup class=\"reference\" id=\"cite_ref-600\"><a href=\"#cite_note-600\"><span class=\"cite-bracket\">[</span>588<span class=\"cite-bracket\">]</span></a></sup>\n",
      "</td></tr>\n",
      "<tr>\n",
      "<th rowspan=\"2\" scope=\"row\" style=\"text-align:center;\">100\n",
      "</th>\n",
      "<td>25 November 2020<br/>02:13<sup class=\"reference\" id=\"cite_ref-SFN20201122_601-0\"><a href=\"#cite_note-SFN20201122-601\"><span class=\"cite-bracket\">[</span>589<span class=\"cite-bracket\">]</span></a></sup>\n",
      "</td>\n",
      "<td><a href=\"/wiki/Falcon_9_Block_5\" title=\"Falcon 9 Block 5\">F9 B5 ♺</a><br/><a href=\"/wiki/List_of_Falcon_9_first-stage_boosters#B1049\" title=\"List of Falcon 9 first-stage boosters\">B1049.7</a><sup class=\"reference\" id=\"cite_ref-602\"><a href=\"#cite_note-602\"><span class=\"cite-bracket\">[</span>590<span class=\"cite-bracket\">]</span></a></sup>\n",
      "</td>\n",
      "<td><a class=\"mw-redirect\" href=\"/wiki/Cape_Canaveral_Air_Force_Station\" title=\"Cape Canaveral Air Force Station\">CCAFS</a>,<br/><a href=\"/wiki/Cape_Canaveral_Space_Launch_Complex_40\" title=\"Cape Canaveral Space Launch Complex 40\">SLC-40</a>\n",
      "</td>\n",
      "<td><a href=\"/wiki/Starlink\" title=\"Starlink\">Starlink</a> 15 v1.0 (60 satellites)\n",
      "</td>\n",
      "<td>15,600 kg (34,400 lb)\n",
      "</td>\n",
      "<td><a href=\"/wiki/Low_Earth_orbit\" title=\"Low Earth orbit\">LEO</a>\n",
      "</td>\n",
      "<td><a href=\"/wiki/SpaceX\" title=\"SpaceX\">SpaceX</a>\n",
      "</td>\n",
      "<td class=\"table-success\" style=\"background: #9EFF9E; color:black; vertical-align: middle; text-align: center;\">Success\n",
      "</td>\n",
      "<td class=\"table-success\" style=\"background: #9EFF9E; color:black; vertical-align: middle; text-align: center;\">Success<br/><small><span class=\"nowrap\">(drone ship)</span></small>\n",
      "</td></tr>\n",
      "<tr>\n",
      "<td colspan=\"9\">First time a booster was launched for a seventh time and first time SpaceX completed four launches in a single month.\n",
      "</td></tr>\n",
      "<tr>\n",
      "<th rowspan=\"2\" scope=\"row\" style=\"text-align:center;\">101\n",
      "</th>\n",
      "<td>6 December 2020<br/>16:17:08<sup class=\"reference\" id=\"cite_ref-603\"><a href=\"#cite_note-603\"><span class=\"cite-bracket\">[</span>591<span class=\"cite-bracket\">]</span></a></sup>\n",
      "</td>\n",
      "<td><a href=\"/wiki/Falcon_9_Block_5\" title=\"Falcon 9 Block 5\">F9 B5 ♺</a><br/><a href=\"/wiki/List_of_Falcon_9_first-stage_boosters\" title=\"List of Falcon 9 first-stage boosters\">B1058.4</a><sup class=\"reference\" id=\"cite_ref-nextspaceflight-20201013_604-0\"><a href=\"#cite_note-nextspaceflight-20201013-604\"><span class=\"cite-bracket\">[</span>592<span class=\"cite-bracket\">]</span></a></sup>\n",
      "</td>\n",
      "<td><a href=\"/wiki/Kennedy_Space_Center\" title=\"Kennedy Space Center\">KSC</a>,<br/><a href=\"/wiki/Kennedy_Space_Center_Launch_Complex_39A\" title=\"Kennedy Space Center Launch Complex 39A\">LC-39A</a>\n",
      "</td>\n",
      "<td><a href=\"/wiki/SpaceX_CRS-21\" title=\"SpaceX CRS-21\">SpaceX CRS-21</a><br/>(Dragon C208.1)\n",
      "</td>\n",
      "<td>2,972 kg (6,552 lb)\n",
      "</td>\n",
      "<td><a class=\"mw-redirect\" href=\"/wiki/Low_Earth_Orbit\" title=\"Low Earth Orbit\">LEO</a> (<a class=\"mw-redirect\" href=\"/wiki/ISS\" title=\"ISS\">ISS</a>)\n",
      "</td>\n",
      "<td><a href=\"/wiki/NASA\" title=\"NASA\">NASA</a> (<a href=\"/wiki/Commercial_Resupply_Services\" title=\"Commercial Resupply Services\">CRS</a>)\n",
      "</td>\n",
      "<td class=\"table-success\" style=\"background: #9EFF9E; color:black; vertical-align: middle; text-align: center;\">Success\n",
      "</td>\n",
      "<td class=\"table-success\" style=\"background: #9EFF9E; color:black; vertical-align: middle; text-align: center;\">Success<br/><small><span class=\"nowrap\">(drone ship)</span></small>\n",
      "</td></tr>\n",
      "<tr>\n",
      "<td colspan=\"9\">First launch of <a href=\"/wiki/Commercial_Resupply_Services#Commercial_Resupply_Services_phase_2\" title=\"Commercial Resupply Services\">phase 2 of the CRS contract</a> of six launches awarded in January 2016.<sup class=\"reference\" id=\"cite_ref-605\"><a href=\"#cite_note-605\"><span class=\"cite-bracket\">[</span>593<span class=\"cite-bracket\">]</span></a></sup> It was the first launch of the upgraded version Cargo Dragon 2 spacecraft, with increased payload capacity and autonomous docking to the ISS. Payloads included Will <a class=\"mw-redirect\" href=\"/wiki/Bishop_Airlock_Module\" title=\"Bishop Airlock Module\">Nanoracks Bishop Airlock</a><sup class=\"reference\" id=\"cite_ref-Bishop2020_606-0\"><a href=\"#cite_note-Bishop2020-606\"><span class=\"cite-bracket\">[</span>594<span class=\"cite-bracket\">]</span></a></sup> and CFIG-1 (Cool Flames Investigation with Gases).<sup class=\"reference\" id=\"cite_ref-grc-schedule_607-0\"><a href=\"#cite_note-grc-schedule-607\"><span class=\"cite-bracket\">[</span>595<span class=\"cite-bracket\">]</span></a></sup> It's also the 100th successful Falcon 9 launch.\n",
      "</td></tr>\n",
      "<tr>\n",
      "<th rowspan=\"2\" scope=\"row\" style=\"text-align:center;\">102\n",
      "</th>\n",
      "<td>13 December 2020<br/>17:30:00<sup class=\"reference\" id=\"cite_ref-608\"><a href=\"#cite_note-608\"><span class=\"cite-bracket\">[</span>596<span class=\"cite-bracket\">]</span></a></sup>\n",
      "</td>\n",
      "<td><a href=\"/wiki/Falcon_9_Block_5\" title=\"Falcon 9 Block 5\">F9 B5 ♺</a><br/><a href=\"/wiki/List_of_Falcon_9_first-stage_boosters\" title=\"List of Falcon 9 first-stage boosters\">B1051.7</a>\n",
      "</td>\n",
      "<td><a href=\"/wiki/Cape_Canaveral_Space_Force_Station\" title=\"Cape Canaveral Space Force Station\">CCSFS</a>,<br/><a href=\"/wiki/Cape_Canaveral_Space_Launch_Complex_40\" title=\"Cape Canaveral Space Launch Complex 40\">SLC-40</a><sup class=\"reference\" id=\"cite_ref-609\"><a href=\"#cite_note-609\"><span class=\"cite-bracket\">[</span>597<span class=\"cite-bracket\">]</span></a></sup>\n",
      "</td>\n",
      "<td><a href=\"/wiki/Sirius_XM\" title=\"Sirius XM\">SXM-7</a>\n",
      "</td>\n",
      "<td>7,000 kg (15,000 lb)\n",
      "</td>\n",
      "<td><a href=\"/wiki/Geostationary_transfer_orbit\" title=\"Geostationary transfer orbit\">GTO</a>\n",
      "</td>\n",
      "<td><a href=\"/wiki/Sirius_XM\" title=\"Sirius XM\">Sirius XM</a>\n",
      "</td>\n",
      "<td class=\"table-success\" style=\"background: #9EFF9E; color:black; vertical-align: middle; text-align: center;\">Success\n",
      "</td>\n",
      "<td class=\"table-success\" style=\"background: #9EFF9E; color:black; vertical-align: middle; text-align: center;\">Success<br/><small><span class=\"nowrap\">(drone ship)</span></small>\n",
      "</td></tr>\n",
      "<tr>\n",
      "<td colspan=\"9\">Launched the largest, high-power broadcasting satellite for SiriusXM's <a href=\"/wiki/Digital_audio_radio_service\" title=\"Digital audio radio service\">digital audio radio service</a> (DARS). SXM-7 was built by <a href=\"/wiki/Maxar_Technologies\" title=\"Maxar Technologies\">Maxar Technologies</a>; intended to operate in the <a href=\"/wiki/S_band\" title=\"S band\">S-band</a> spectrum, it will replace the SXM-3 satellite. The satellite will deliver the highest power density of any commercial satellite on-orbit,<sup class=\"reference\" id=\"cite_ref-610\"><a href=\"#cite_note-610\"><span class=\"cite-bracket\">[</span>598<span class=\"cite-bracket\">]</span></a></sup> generate more than 20 kW of power, and have a large unfoldable antenna reflector, which enables broadcast to radios without the need for large dish-type antennas on the ground. Due to the heavy weight, the payload was injected into a sub-synchronous orbit of 224 km × 19,411 km (139 mi × 12,061 mi) and the satellite itself will transfer to full GTO.<sup class=\"reference\" id=\"cite_ref-611\"><a href=\"#cite_note-611\"><span class=\"cite-bracket\">[</span>599<span class=\"cite-bracket\">]</span></a></sup> It was the first time a commercial primary payload flew on a booster which had been flown more than 4 times before.<sup class=\"reference\" id=\"cite_ref-auto3_612-0\"><a href=\"#cite_note-auto3-612\"><span class=\"cite-bracket\">[</span>600<span class=\"cite-bracket\">]</span></a></sup> First dedicated customer launch where the fairings were previously used.<sup class=\"reference\" id=\"cite_ref-613\"><a href=\"#cite_note-613\"><span class=\"cite-bracket\">[</span>601<span class=\"cite-bracket\">]</span></a></sup>\n",
      "</td></tr>\n",
      "<tr>\n",
      "<th rowspan=\"2\" scope=\"row\" style=\"text-align:center;\">103\n",
      "</th>\n",
      "<td>19 December 2020<br/>14:00:00<sup class=\"reference\" id=\"cite_ref-SFN20201217_614-0\"><a href=\"#cite_note-SFN20201217-614\"><span class=\"cite-bracket\">[</span>602<span class=\"cite-bracket\">]</span></a></sup>\n",
      "</td>\n",
      "<td><a href=\"/wiki/Falcon_9_Block_5\" title=\"Falcon 9 Block 5\">F9 B5 ♺</a><br/><a href=\"/wiki/List_of_Falcon_9_first-stage_boosters#B1059\" title=\"List of Falcon 9 first-stage boosters\">B1059.5</a>\n",
      "</td>\n",
      "<td><a href=\"/wiki/Kennedy_Space_Center\" title=\"Kennedy Space Center\">KSC</a>,<br/><a href=\"/wiki/Kennedy_Space_Center_Launch_Complex_39A\" title=\"Kennedy Space Center Launch Complex 39A\">LC-39A</a>\n",
      "</td>\n",
      "<td><a href=\"/wiki/List_of_NRO_launches\" title=\"List of NRO launches\">NROL-108</a>\n",
      "</td>\n",
      "<td class=\"table-na\" data-sort-value=\"\" style=\"background: var(--background-color-interactive, #ececec); color: var(--color-base, inherit); vertical-align: middle; text-align: center;\">Classified\n",
      "</td>\n",
      "<td><a href=\"/wiki/Low_Earth_orbit\" title=\"Low Earth orbit\">LEO</a>\n",
      "</td>\n",
      "<td><a href=\"/wiki/National_Reconnaissance_Office\" title=\"National Reconnaissance Office\">NRO</a>\n",
      "</td>\n",
      "<td class=\"table-success\" style=\"background: #9EFF9E; color:black; vertical-align: middle; text-align: center;\">Success\n",
      "</td>\n",
      "<td class=\"table-success\" style=\"background: #9EFF9E; color:black; vertical-align: middle; text-align: center;\">Success<br/><small><span class=\"nowrap\">(ground pad)</span></small>\n",
      "</td></tr>\n",
      "<tr>\n",
      "<td colspan=\"9\">The planned launch was not known by the public until FCC filings appeared in late September followed by confirmation from the NRO on 5 October 2020, likely a relatively light payload that allows the return of the booster to the launch site.<sup class=\"reference\" id=\"cite_ref-615\"><a href=\"#cite_note-615\"><span class=\"cite-bracket\">[</span>603<span class=\"cite-bracket\">]</span></a></sup>\n",
      "</td></tr>\n",
      "</tbody></table>\n"
     ]
    }
   ],
   "source": [
    "# Let's print the third table and check its content\n",
    "first_launch_table = html_tables[9]\n",
    "print(first_launch_table)"
   ]
  },
  {
   "cell_type": "markdown",
   "metadata": {},
   "source": [
    "You should able to see the columns names embedded in the table header elements `<th>` as follows:\n"
   ]
  },
  {
   "cell_type": "markdown",
   "metadata": {},
   "source": [
    "```\n",
    "<tr>\n",
    "<th scope=\"col\">Flight No.\n",
    "</th>\n",
    "<th scope=\"col\">Date and<br/>time (<a href=\"/wiki/Coordinated_Universal_Time\" title=\"Coordinated Universal Time\">UTC</a>)\n",
    "</th>\n",
    "<th scope=\"col\"><a href=\"/wiki/List_of_Falcon_9_first-stage_boosters\" title=\"List of Falcon 9 first-stage boosters\">Version,<br/>Booster</a> <sup class=\"reference\" id=\"cite_ref-booster_11-0\"><a href=\"#cite_note-booster-11\">[b]</a></sup>\n",
    "</th>\n",
    "<th scope=\"col\">Launch site\n",
    "</th>\n",
    "<th scope=\"col\">Payload<sup class=\"reference\" id=\"cite_ref-Dragon_12-0\"><a href=\"#cite_note-Dragon-12\">[c]</a></sup>\n",
    "</th>\n",
    "<th scope=\"col\">Payload mass\n",
    "</th>\n",
    "<th scope=\"col\">Orbit\n",
    "</th>\n",
    "<th scope=\"col\">Customer\n",
    "</th>\n",
    "<th scope=\"col\">Launch<br/>outcome\n",
    "</th>\n",
    "<th scope=\"col\"><a href=\"/wiki/Falcon_9_first-stage_landing_tests\" title=\"Falcon 9 first-stage landing tests\">Booster<br/>landing</a>\n",
    "</th></tr>\n",
    "```\n"
   ]
  },
  {
   "cell_type": "markdown",
   "metadata": {},
   "source": [
    "Next, we just need to iterate through the `<th>` elements and apply the provided `extract_column_from_header()` to extract column name one by one\n"
   ]
  },
  {
   "cell_type": "code",
   "execution_count": 24,
   "metadata": {
    "tags": []
   },
   "outputs": [],
   "source": [
    "column_names = []\n",
    "headers = first_launch_table.find_all('th')\n",
    "for header in headers:\n",
    "    name = extract_column_from_header(header)\n",
    "    if name is not None and len(name)>0:\n",
    "        column_names.append(name)\n",
    "\n",
    "\n",
    "# Apply find_all() function with `th` element on first_launch_table\n",
    "# Iterate each th element and apply the provided extract_column_from_header() to get a column name\n",
    "# Append the Non-empty column name (`if name is not None and len(name) > 0`) into a list called column_names\n"
   ]
  },
  {
   "cell_type": "markdown",
   "metadata": {},
   "source": [
    "Check the extracted column names\n"
   ]
  },
  {
   "cell_type": "code",
   "execution_count": 25,
   "metadata": {
    "tags": []
   },
   "outputs": [
    {
     "name": "stdout",
     "output_type": "stream",
     "text": [
      "['Flight No.', 'Date and time ( )', 'Launch site', 'Payload', 'Payload mass', 'Orbit', 'Customer', 'Launch outcome']\n"
     ]
    }
   ],
   "source": [
    "\n",
    "print(column_names)"
   ]
  },
  {
   "cell_type": "markdown",
   "metadata": {},
   "source": [
    "## TASK 3: Create a data frame by parsing the launch HTML tables\n"
   ]
  },
  {
   "cell_type": "markdown",
   "metadata": {},
   "source": [
    "We will create an empty dictionary with keys from the extracted column names in the previous task. Later, this dictionary will be converted into a Pandas dataframe\n"
   ]
  },
  {
   "cell_type": "code",
   "execution_count": 26,
   "metadata": {
    "tags": []
   },
   "outputs": [],
   "source": [
    "launch_dict= dict.fromkeys(column_names)\n",
    "\n",
    "# Remove an irrelvant column\n",
    "del launch_dict['Date and time ( )']\n",
    "\n",
    "# Let's initial the launch_dict with each value to be an empty list\n",
    "launch_dict['Flight No.'] = []\n",
    "launch_dict['Launch site'] = []\n",
    "launch_dict['Payload'] = []\n",
    "launch_dict['Payload mass'] = []\n",
    "launch_dict['Orbit'] = []\n",
    "launch_dict['Customer'] = []\n",
    "launch_dict['Launch outcome'] = []\n",
    "# Added some new columns\n",
    "launch_dict['Version Booster']=[]\n",
    "launch_dict['Booster landing']=[]\n",
    "launch_dict['Date']=[]\n",
    "launch_dict['Time']=[]"
   ]
  },
  {
   "cell_type": "markdown",
   "metadata": {},
   "source": [
    "Next, we just need to fill up the `launch_dict` with launch records extracted from table rows.\n"
   ]
  },
  {
   "cell_type": "markdown",
   "metadata": {},
   "source": [
    "Usually, HTML tables in Wiki pages are likely to contain unexpected annotations and other types of noises, such as reference links `B0004.1[8]`, missing values `N/A [e]`, inconsistent formatting, etc.\n"
   ]
  },
  {
   "cell_type": "markdown",
   "metadata": {},
   "source": [
    "To simplify the parsing process, we have provided an incomplete code snippet below to help you to fill up the `launch_dict`. Please complete the following code snippet with TODOs or you can choose to write your own logic to parse all launch tables:\n"
   ]
  },
  {
   "cell_type": "code",
   "execution_count": 27,
   "metadata": {
    "tags": []
   },
   "outputs": [],
   "source": [
    "extracted_row = 0\n",
    "#Extract each table \n",
    "for table_number,table in enumerate(soup.find_all('table',\"wikitable plainrowheaders collapsible\")):\n",
    "   # get table row \n",
    "    for rows in table.find_all(\"tr\"):\n",
    "        #check to see if first table heading is as number corresponding to launch a number \n",
    "        if rows.th:\n",
    "            if rows.th.string:\n",
    "                flight_number=rows.th.string.strip()\n",
    "                flag=flight_number.isdigit()\n",
    "        else:\n",
    "            flag=False\n",
    "        #get table element \n",
    "        row=rows.find_all('td')\n",
    "        #if it is number save cells in a dictonary \n",
    "        if flag:\n",
    "            extracted_row += 1\n",
    "            # Flight Number value\n",
    "            # TODO: Append the flight_number into launch_dict with key `Flight No.`\n",
    "            launch_dict['Flight No.'].append(flight_number)\n",
    "            #print(flight_number)\n",
    "            datatimelist=date_time(row[0])\n",
    "            \n",
    "            # Date value\n",
    "            # TODO: Append the date into launch_dict with key `Date`\n",
    "            date = datatimelist[0].strip(',')\n",
    "            launch_dict['Date'].append(date)\n",
    "            #print(date)\n",
    "            \n",
    "            # Time value\n",
    "            # TODO: Append the time into launch_dict with key `Time`\n",
    "            time = datatimelist[1]\n",
    "            launch_dict['Time'].append(time)\n",
    "            #print(time)\n",
    "              \n",
    "            # Booster version\n",
    "            # TODO: Append the bv into launch_dict with key `Version Booster`\n",
    "            bv=booster_version(row[1])\n",
    "            if not(bv):\n",
    "                bv=row[1].a.string\n",
    "            launch_dict['Version Booster'].append(bv)\n",
    "            #print(bv)\n",
    "            \n",
    "            # Launch Site\n",
    "            # TODO: Append the bv into launch_dict with key `Launch Site`\n",
    "            launch_site = row[2].a.string\n",
    "            launch_dict['Launch site'].append(launch_site)\n",
    "            #print(launch_site)\n",
    "            \n",
    "            # Payload\n",
    "            # TODO: Append the payload into launch_dict with key `Payload`\n",
    "            payload = row[3].a.string\n",
    "            launch_dict['Payload'].append(payload)\n",
    "            #print(payload)\n",
    "            \n",
    "            # Payload Mass\n",
    "            # TODO: Append the payload_mass into launch_dict with key `Payload mass`\n",
    "            payload_mass = get_mass(row[4])\n",
    "            launch_dict['Payload mass'].append(payload_mass)\n",
    "            #print(payload)\n",
    "            \n",
    "            # Orbit\n",
    "            # TODO: Append the orbit into launch_dict with key `Orbit`\n",
    "            orbit = row[5].a.string\n",
    "            launch_dict['Orbit'].append(orbit)\n",
    "            #print(orbit)\n",
    "            \n",
    "            # Customer\n",
    "            # TODO: Append the customer into launch_dict with key `Customer`\n",
    "            #print(extracted_row)\n",
    "            if row[6].a:\n",
    "                customer = row[6].a.string\n",
    "            else:\n",
    "                customer = row[6].string\n",
    "            launch_dict['Customer'].append(customer)\n",
    "            \n",
    "            \n",
    "            \n",
    "            # Launch outcome\n",
    "            # TODO: Append the launch_outcome into launch_dict with key `Launch outcome`\n",
    "            launch_outcome = list(row[7].strings)[0]\n",
    "            launch_dict['Launch outcome'].append(launch_outcome)\n",
    "            #print(launch_outcome)\n",
    "            \n",
    "            # Booster landing\n",
    "            # TODO: Append the launch_outcome into launch_dict with key `Booster landing`\n",
    "            booster_landing = landing_status(row[8])\n",
    "            launch_dict['Booster landing'].append(booster_landing)\n",
    "            #print(booster_landing)\n",
    "            "
   ]
  },
  {
   "cell_type": "markdown",
   "metadata": {},
   "source": [
    "After you have fill in the parsed launch record values into `launch_dict`, you can create a dataframe from it.\n"
   ]
  },
  {
   "cell_type": "code",
   "execution_count": 28,
   "metadata": {
    "tags": []
   },
   "outputs": [],
   "source": [
    "df= pd.DataFrame({ key:pd.Series(value) for key, value in launch_dict.items() })"
   ]
  },
  {
   "cell_type": "code",
   "execution_count": 29,
   "metadata": {
    "tags": []
   },
   "outputs": [],
   "source": [
    "df.to_csv('spacex_web_scraped.csv', index=False)"
   ]
  },
  {
   "cell_type": "markdown",
   "metadata": {},
   "source": [
    "We can now export it to a <b>CSV</b> for the next section, but to make the answers consistent and in case you have difficulties finishing this lab. \n",
    "\n",
    "Following labs will be using a provided dataset to make each lab independent. \n"
   ]
  },
  {
   "cell_type": "markdown",
   "metadata": {},
   "source": [
    "<code>df.to_csv('spacex_web_scraped.csv', index=False)</code>\n"
   ]
  },
  {
   "cell_type": "markdown",
   "metadata": {},
   "source": [
    "## Authors\n"
   ]
  },
  {
   "cell_type": "markdown",
   "metadata": {},
   "source": [
    "<a href=\"https://www.linkedin.com/in/yan-luo-96288783/\">Yan Luo</a>\n"
   ]
  },
  {
   "cell_type": "markdown",
   "metadata": {},
   "source": [
    "<a href=\"https://www.linkedin.com/in/nayefaboutayoun/\">Nayef Abou Tayoun</a>\n"
   ]
  },
  {
   "cell_type": "markdown",
   "metadata": {},
   "source": [
    "<!--\n",
    "## Change Log\n",
    "-->\n"
   ]
  },
  {
   "cell_type": "markdown",
   "metadata": {},
   "source": [
    "<!--\n",
    "| Date (YYYY-MM-DD) | Version | Changed By | Change Description      |\n",
    "| ----------------- | ------- | ---------- | ----------------------- |\n",
    "| 2021-06-09        | 1.0     | Yan Luo    | Tasks updates           |\n",
    "| 2020-11-10        | 1.0     | Nayef      | Created the initial version |\n",
    "-->\n"
   ]
  },
  {
   "cell_type": "markdown",
   "metadata": {},
   "source": [
    "Copyright © 2021 IBM Corporation. All rights reserved.\n"
   ]
  }
 ],
 "metadata": {
  "kernelspec": {
   "display_name": "Python",
   "language": "python",
   "name": "conda-env-python-py"
  },
  "language_info": {
   "codemirror_mode": {
    "name": "ipython",
    "version": 3
   },
   "file_extension": ".py",
   "mimetype": "text/x-python",
   "name": "python",
   "nbconvert_exporter": "python",
   "pygments_lexer": "ipython3",
   "version": "3.7.12"
  },
  "prev_pub_hash": "64f1b0aac408997185c47caba18730e0028b75e7934a0e5bf0ae73c5cb7ba677"
 },
 "nbformat": 4,
 "nbformat_minor": 4
}
